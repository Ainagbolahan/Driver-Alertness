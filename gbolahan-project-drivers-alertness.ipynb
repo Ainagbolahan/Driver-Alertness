{
 "cells": [
  {
   "cell_type": "markdown",
   "metadata": {
    "id": "bDasrlY2QRrj"
   },
   "source": [
    "# gbolahan-project-drivers-alertness\n",
    "\n",
    "Use the \"Run\" button to execute the code."
   ]
  },
  {
   "cell_type": "markdown",
   "metadata": {
    "id": "Lo9ikOHSQRrp"
   },
   "source": [
    "\n",
    "Intalling the required libraries"
   ]
  },
  {
   "cell_type": "markdown",
   "metadata": {
    "code_folding": [],
    "id": "glRqT4CGQRrs"
   },
   "source": [
    "Importing Some required tools"
   ]
  },
  {
   "cell_type": "code",
   "execution_count": 1,
   "metadata": {
    "executionInfo": {
     "elapsed": 24,
     "status": "ok",
     "timestamp": 1628795659066,
     "user": {
      "displayName": "Gbolahan Aina",
      "photoUrl": "https://lh3.googleusercontent.com/a-/AOh14GgwLohnVy9DIPOUXPShxvtPY1zsdv1KN1Gj74XbHA=s64",
      "userId": "04759338744272072118"
     },
     "user_tz": -60
    },
    "id": "zyXqetfbQRrt"
   },
   "outputs": [],
   "source": [
    "import opendatasets as od\n",
    "import matplotlib.pyplot as plt\n",
    "import seaborn as sns\n",
    "import pandas as pd\n",
    "import numpy as np\n",
    "import matplotlib\n",
    "\n",
    "%matplotlib inline\n",
    "pd.set_option('display.max_columns', None)\n",
    "pd.set_option('display.max_rows', 150)\n",
    "sns.set_style('darkgrid')\n",
    "matplotlib.rcParams['font.size'] = 14\n",
    "matplotlib.rcParams['figure.figsize'] = (10, 6)\n",
    "matplotlib.rcParams['figure.facecolor'] = '#00000000'"
   ]
  },
  {
   "cell_type": "markdown",
   "metadata": {
    "id": "ZNo50gNJQRru"
   },
   "source": [
    " ## Downloading the dataset from Kaggle\n",
    " \n",
    " The dataset is available at https://www.kaggle.com/c/stayalert/data .\n",
    "\n",
    "We'll use the opendatasets library to download the data from Kaggle directly within Jupyter."
   ]
  },
  {
   "cell_type": "code",
   "execution_count": 2,
   "metadata": {
    "colab": {
     "base_uri": "https://localhost:8080/"
    },
    "executionInfo": {
     "elapsed": 20,
     "status": "ok",
     "timestamp": 1628795659067,
     "user": {
      "displayName": "Gbolahan Aina",
      "photoUrl": "https://lh3.googleusercontent.com/a-/AOh14GgwLohnVy9DIPOUXPShxvtPY1zsdv1KN1Gj74XbHA=s64",
      "userId": "04759338744272072118"
     },
     "user_tz": -60
    },
    "id": "L5-4TwEdQRru",
    "outputId": "d1ba4940-a055-4b46-a468-e2e5d9015a29"
   },
   "outputs": [
    {
     "name": "stdout",
     "output_type": "stream",
     "text": [
      "Please provide your Kaggle credentials to download this dataset. Learn more: http://bit.ly/kaggle-creds\n",
      "Your Kaggle username: ainagbolahan\n",
      "Your Kaggle Key: ········\n",
      "Downloading stayalert.zip to .\\stayalert\n"
     ]
    },
    {
     "name": "stderr",
     "output_type": "stream",
     "text": [
      "100%|██████████████████████████████████████████████████████████████████████████████| 18.2M/18.2M [00:30<00:00, 620kB/s]\n"
     ]
    },
    {
     "name": "stdout",
     "output_type": "stream",
     "text": [
      "\n",
      "Extracting archive .\\stayalert/stayalert.zip to .\\stayalert\n"
     ]
    }
   ],
   "source": [
    "od.download('https://www.kaggle.com/c/stayalert/data')"
   ]
  },
  {
   "cell_type": "code",
   "execution_count": 3,
   "metadata": {
    "colab": {
     "base_uri": "https://localhost:8080/"
    },
    "executionInfo": {
     "elapsed": 15,
     "status": "ok",
     "timestamp": 1628795659067,
     "user": {
      "displayName": "Gbolahan Aina",
      "photoUrl": "https://lh3.googleusercontent.com/a-/AOh14GgwLohnVy9DIPOUXPShxvtPY1zsdv1KN1Gj74XbHA=s64",
      "userId": "04759338744272072118"
     },
     "user_tz": -60
    },
    "id": "XLRNPt-lQRru",
    "outputId": "74e2aeab-9b21-4612-daa6-e8118f25fa3d"
   },
   "outputs": [
    {
     "data": {
      "text/plain": [
       "['example_submission.csv', 'fordTest.csv', 'fordTrain.csv', 'Solution.csv']"
      ]
     },
     "execution_count": 3,
     "metadata": {},
     "output_type": "execute_result"
    }
   ],
   "source": [
    "import os\n",
    "os.listdir('stayalert')\n"
   ]
  },
  {
   "cell_type": "markdown",
   "metadata": {
    "id": "JgrfHFVf-WMs"
   },
   "source": [
    "The objective of this challenge is to design a detector/classifier that will detect whether the driver is alert or not alert, employing any combination of vehicular, environmental and driver physiological data that are acquired while driving."
   ]
  },
  {
   "cell_type": "markdown",
   "metadata": {
    "id": "ljyKeaQQ-WMt"
   },
   "source": [
    "The third column 'IsAlert' has a value X for each row where\n",
    "               X = 1     if the driver is alert\n",
    "               X = 0     if the driver is not alert\n",
    "My Job is to design a classifier that will predict \"1\" for is alert and \"0\" if the driver is not alert"
   ]
  },
  {
   "cell_type": "code",
   "execution_count": 4,
   "metadata": {
    "executionInfo": {
     "elapsed": 1482,
     "status": "ok",
     "timestamp": 1628795663080,
     "user": {
      "displayName": "Gbolahan Aina",
      "photoUrl": "https://lh3.googleusercontent.com/a-/AOh14GgwLohnVy9DIPOUXPShxvtPY1zsdv1KN1Gj74XbHA=s64",
      "userId": "04759338744272072118"
     },
     "user_tz": -60
    },
    "id": "0v-L28ZVQRrv"
   },
   "outputs": [],
   "source": [
    "train = pd.read_csv('stayalert/fordTrain.csv')"
   ]
  },
  {
   "cell_type": "code",
   "execution_count": 5,
   "metadata": {
    "colab": {
     "base_uri": "https://localhost:8080/",
     "height": 437
    },
    "executionInfo": {
     "elapsed": 792,
     "status": "ok",
     "timestamp": 1628795663859,
     "user": {
      "displayName": "Gbolahan Aina",
      "photoUrl": "https://lh3.googleusercontent.com/a-/AOh14GgwLohnVy9DIPOUXPShxvtPY1zsdv1KN1Gj74XbHA=s64",
      "userId": "04759338744272072118"
     },
     "user_tz": -60
    },
    "id": "5uJ9xY82QRrw",
    "outputId": "831b2513-4ca2-49c2-9351-2fd6184d657e",
    "scrolled": true
   },
   "outputs": [
    {
     "data": {
      "text/html": [
       "<div>\n",
       "<style scoped>\n",
       "    .dataframe tbody tr th:only-of-type {\n",
       "        vertical-align: middle;\n",
       "    }\n",
       "\n",
       "    .dataframe tbody tr th {\n",
       "        vertical-align: top;\n",
       "    }\n",
       "\n",
       "    .dataframe thead th {\n",
       "        text-align: right;\n",
       "    }\n",
       "</style>\n",
       "<table border=\"1\" class=\"dataframe\">\n",
       "  <thead>\n",
       "    <tr style=\"text-align: right;\">\n",
       "      <th></th>\n",
       "      <th>TrialID</th>\n",
       "      <th>ObsNum</th>\n",
       "      <th>IsAlert</th>\n",
       "      <th>P1</th>\n",
       "      <th>P2</th>\n",
       "      <th>P3</th>\n",
       "      <th>P4</th>\n",
       "      <th>P5</th>\n",
       "      <th>P6</th>\n",
       "      <th>P7</th>\n",
       "      <th>P8</th>\n",
       "      <th>E1</th>\n",
       "      <th>E2</th>\n",
       "      <th>E3</th>\n",
       "      <th>E4</th>\n",
       "      <th>E5</th>\n",
       "      <th>E6</th>\n",
       "      <th>E7</th>\n",
       "      <th>E8</th>\n",
       "      <th>E9</th>\n",
       "      <th>E10</th>\n",
       "      <th>E11</th>\n",
       "      <th>V1</th>\n",
       "      <th>V2</th>\n",
       "      <th>V3</th>\n",
       "      <th>V4</th>\n",
       "      <th>V5</th>\n",
       "      <th>V6</th>\n",
       "      <th>V7</th>\n",
       "      <th>V8</th>\n",
       "      <th>V9</th>\n",
       "      <th>V10</th>\n",
       "      <th>V11</th>\n",
       "    </tr>\n",
       "  </thead>\n",
       "  <tbody>\n",
       "    <tr>\n",
       "      <th>0</th>\n",
       "      <td>0</td>\n",
       "      <td>0</td>\n",
       "      <td>0</td>\n",
       "      <td>34.7406</td>\n",
       "      <td>9.84593</td>\n",
       "      <td>1400</td>\n",
       "      <td>42.8571</td>\n",
       "      <td>0.290601</td>\n",
       "      <td>572</td>\n",
       "      <td>104.8950</td>\n",
       "      <td>0</td>\n",
       "      <td>0.000</td>\n",
       "      <td>0.00</td>\n",
       "      <td>1</td>\n",
       "      <td>-20</td>\n",
       "      <td>0.015875</td>\n",
       "      <td>324</td>\n",
       "      <td>1</td>\n",
       "      <td>1</td>\n",
       "      <td>1</td>\n",
       "      <td>57</td>\n",
       "      <td>0.0</td>\n",
       "      <td>101.96</td>\n",
       "      <td>0.175</td>\n",
       "      <td>752</td>\n",
       "      <td>5.99375</td>\n",
       "      <td>0</td>\n",
       "      <td>2005</td>\n",
       "      <td>0</td>\n",
       "      <td>13.4</td>\n",
       "      <td>0</td>\n",
       "      <td>4</td>\n",
       "      <td>14.8004</td>\n",
       "    </tr>\n",
       "    <tr>\n",
       "      <th>1</th>\n",
       "      <td>0</td>\n",
       "      <td>1</td>\n",
       "      <td>0</td>\n",
       "      <td>34.4215</td>\n",
       "      <td>13.41120</td>\n",
       "      <td>1400</td>\n",
       "      <td>42.8571</td>\n",
       "      <td>0.290601</td>\n",
       "      <td>572</td>\n",
       "      <td>104.8950</td>\n",
       "      <td>0</td>\n",
       "      <td>0.000</td>\n",
       "      <td>0.00</td>\n",
       "      <td>1</td>\n",
       "      <td>-20</td>\n",
       "      <td>0.015875</td>\n",
       "      <td>324</td>\n",
       "      <td>1</td>\n",
       "      <td>1</td>\n",
       "      <td>1</td>\n",
       "      <td>57</td>\n",
       "      <td>0.0</td>\n",
       "      <td>101.98</td>\n",
       "      <td>0.455</td>\n",
       "      <td>752</td>\n",
       "      <td>5.99375</td>\n",
       "      <td>0</td>\n",
       "      <td>2007</td>\n",
       "      <td>0</td>\n",
       "      <td>13.4</td>\n",
       "      <td>0</td>\n",
       "      <td>4</td>\n",
       "      <td>14.7729</td>\n",
       "    </tr>\n",
       "    <tr>\n",
       "      <th>2</th>\n",
       "      <td>0</td>\n",
       "      <td>2</td>\n",
       "      <td>0</td>\n",
       "      <td>34.3447</td>\n",
       "      <td>15.18520</td>\n",
       "      <td>1400</td>\n",
       "      <td>42.8571</td>\n",
       "      <td>0.290601</td>\n",
       "      <td>576</td>\n",
       "      <td>104.1670</td>\n",
       "      <td>0</td>\n",
       "      <td>0.000</td>\n",
       "      <td>0.00</td>\n",
       "      <td>1</td>\n",
       "      <td>-20</td>\n",
       "      <td>0.015875</td>\n",
       "      <td>324</td>\n",
       "      <td>1</td>\n",
       "      <td>1</td>\n",
       "      <td>1</td>\n",
       "      <td>57</td>\n",
       "      <td>0.0</td>\n",
       "      <td>101.97</td>\n",
       "      <td>0.280</td>\n",
       "      <td>752</td>\n",
       "      <td>5.99375</td>\n",
       "      <td>0</td>\n",
       "      <td>2011</td>\n",
       "      <td>0</td>\n",
       "      <td>13.4</td>\n",
       "      <td>0</td>\n",
       "      <td>4</td>\n",
       "      <td>14.7736</td>\n",
       "    </tr>\n",
       "    <tr>\n",
       "      <th>3</th>\n",
       "      <td>0</td>\n",
       "      <td>3</td>\n",
       "      <td>0</td>\n",
       "      <td>34.3421</td>\n",
       "      <td>8.84696</td>\n",
       "      <td>1400</td>\n",
       "      <td>42.8571</td>\n",
       "      <td>0.290601</td>\n",
       "      <td>576</td>\n",
       "      <td>104.1670</td>\n",
       "      <td>0</td>\n",
       "      <td>0.000</td>\n",
       "      <td>0.00</td>\n",
       "      <td>1</td>\n",
       "      <td>-20</td>\n",
       "      <td>0.015875</td>\n",
       "      <td>324</td>\n",
       "      <td>1</td>\n",
       "      <td>1</td>\n",
       "      <td>1</td>\n",
       "      <td>57</td>\n",
       "      <td>0.0</td>\n",
       "      <td>101.99</td>\n",
       "      <td>0.070</td>\n",
       "      <td>752</td>\n",
       "      <td>5.99375</td>\n",
       "      <td>0</td>\n",
       "      <td>2015</td>\n",
       "      <td>0</td>\n",
       "      <td>13.4</td>\n",
       "      <td>0</td>\n",
       "      <td>4</td>\n",
       "      <td>14.7667</td>\n",
       "    </tr>\n",
       "    <tr>\n",
       "      <th>4</th>\n",
       "      <td>0</td>\n",
       "      <td>4</td>\n",
       "      <td>0</td>\n",
       "      <td>34.3322</td>\n",
       "      <td>14.69940</td>\n",
       "      <td>1400</td>\n",
       "      <td>42.8571</td>\n",
       "      <td>0.290601</td>\n",
       "      <td>576</td>\n",
       "      <td>104.1670</td>\n",
       "      <td>0</td>\n",
       "      <td>0.000</td>\n",
       "      <td>0.00</td>\n",
       "      <td>1</td>\n",
       "      <td>-20</td>\n",
       "      <td>0.015875</td>\n",
       "      <td>324</td>\n",
       "      <td>1</td>\n",
       "      <td>1</td>\n",
       "      <td>1</td>\n",
       "      <td>57</td>\n",
       "      <td>0.0</td>\n",
       "      <td>102.07</td>\n",
       "      <td>0.175</td>\n",
       "      <td>752</td>\n",
       "      <td>5.99375</td>\n",
       "      <td>0</td>\n",
       "      <td>2017</td>\n",
       "      <td>0</td>\n",
       "      <td>13.4</td>\n",
       "      <td>0</td>\n",
       "      <td>4</td>\n",
       "      <td>14.7757</td>\n",
       "    </tr>\n",
       "    <tr>\n",
       "      <th>...</th>\n",
       "      <td>...</td>\n",
       "      <td>...</td>\n",
       "      <td>...</td>\n",
       "      <td>...</td>\n",
       "      <td>...</td>\n",
       "      <td>...</td>\n",
       "      <td>...</td>\n",
       "      <td>...</td>\n",
       "      <td>...</td>\n",
       "      <td>...</td>\n",
       "      <td>...</td>\n",
       "      <td>...</td>\n",
       "      <td>...</td>\n",
       "      <td>...</td>\n",
       "      <td>...</td>\n",
       "      <td>...</td>\n",
       "      <td>...</td>\n",
       "      <td>...</td>\n",
       "      <td>...</td>\n",
       "      <td>...</td>\n",
       "      <td>...</td>\n",
       "      <td>...</td>\n",
       "      <td>...</td>\n",
       "      <td>...</td>\n",
       "      <td>...</td>\n",
       "      <td>...</td>\n",
       "      <td>...</td>\n",
       "      <td>...</td>\n",
       "      <td>...</td>\n",
       "      <td>...</td>\n",
       "      <td>...</td>\n",
       "      <td>...</td>\n",
       "      <td>...</td>\n",
       "    </tr>\n",
       "    <tr>\n",
       "      <th>604324</th>\n",
       "      <td>510</td>\n",
       "      <td>1194</td>\n",
       "      <td>1</td>\n",
       "      <td>32.0051</td>\n",
       "      <td>10.13240</td>\n",
       "      <td>800</td>\n",
       "      <td>75.0000</td>\n",
       "      <td>0.081731</td>\n",
       "      <td>680</td>\n",
       "      <td>88.2353</td>\n",
       "      <td>0</td>\n",
       "      <td>17.807</td>\n",
       "      <td>222.11</td>\n",
       "      <td>0</td>\n",
       "      <td>0</td>\n",
       "      <td>0.016379</td>\n",
       "      <td>322</td>\n",
       "      <td>2</td>\n",
       "      <td>2</td>\n",
       "      <td>1</td>\n",
       "      <td>64</td>\n",
       "      <td>0.0</td>\n",
       "      <td>91.51</td>\n",
       "      <td>0.280</td>\n",
       "      <td>240</td>\n",
       "      <td>3.01875</td>\n",
       "      <td>0</td>\n",
       "      <td>1801</td>\n",
       "      <td>0</td>\n",
       "      <td>30.4</td>\n",
       "      <td>0</td>\n",
       "      <td>4</td>\n",
       "      <td>15.8113</td>\n",
       "    </tr>\n",
       "    <tr>\n",
       "      <th>604325</th>\n",
       "      <td>510</td>\n",
       "      <td>1195</td>\n",
       "      <td>1</td>\n",
       "      <td>32.0393</td>\n",
       "      <td>12.45040</td>\n",
       "      <td>800</td>\n",
       "      <td>75.0000</td>\n",
       "      <td>0.081731</td>\n",
       "      <td>680</td>\n",
       "      <td>88.2353</td>\n",
       "      <td>0</td>\n",
       "      <td>17.807</td>\n",
       "      <td>222.11</td>\n",
       "      <td>0</td>\n",
       "      <td>0</td>\n",
       "      <td>0.016379</td>\n",
       "      <td>322</td>\n",
       "      <td>2</td>\n",
       "      <td>2</td>\n",
       "      <td>1</td>\n",
       "      <td>64</td>\n",
       "      <td>0.0</td>\n",
       "      <td>91.51</td>\n",
       "      <td>0.280</td>\n",
       "      <td>240</td>\n",
       "      <td>3.01875</td>\n",
       "      <td>0</td>\n",
       "      <td>1801</td>\n",
       "      <td>0</td>\n",
       "      <td>30.4</td>\n",
       "      <td>0</td>\n",
       "      <td>4</td>\n",
       "      <td>15.8018</td>\n",
       "    </tr>\n",
       "    <tr>\n",
       "      <th>604326</th>\n",
       "      <td>510</td>\n",
       "      <td>1196</td>\n",
       "      <td>1</td>\n",
       "      <td>32.0762</td>\n",
       "      <td>10.06180</td>\n",
       "      <td>800</td>\n",
       "      <td>75.0000</td>\n",
       "      <td>0.081731</td>\n",
       "      <td>680</td>\n",
       "      <td>88.2353</td>\n",
       "      <td>0</td>\n",
       "      <td>17.807</td>\n",
       "      <td>222.11</td>\n",
       "      <td>0</td>\n",
       "      <td>0</td>\n",
       "      <td>0.016379</td>\n",
       "      <td>322</td>\n",
       "      <td>2</td>\n",
       "      <td>2</td>\n",
       "      <td>1</td>\n",
       "      <td>64</td>\n",
       "      <td>0.0</td>\n",
       "      <td>91.56</td>\n",
       "      <td>0.175</td>\n",
       "      <td>240</td>\n",
       "      <td>3.01875</td>\n",
       "      <td>0</td>\n",
       "      <td>1800</td>\n",
       "      <td>0</td>\n",
       "      <td>31.3</td>\n",
       "      <td>0</td>\n",
       "      <td>4</td>\n",
       "      <td>15.8120</td>\n",
       "    </tr>\n",
       "    <tr>\n",
       "      <th>604327</th>\n",
       "      <td>510</td>\n",
       "      <td>1197</td>\n",
       "      <td>1</td>\n",
       "      <td>32.1154</td>\n",
       "      <td>17.84500</td>\n",
       "      <td>800</td>\n",
       "      <td>75.0000</td>\n",
       "      <td>0.081731</td>\n",
       "      <td>680</td>\n",
       "      <td>88.2353</td>\n",
       "      <td>0</td>\n",
       "      <td>17.807</td>\n",
       "      <td>222.11</td>\n",
       "      <td>0</td>\n",
       "      <td>0</td>\n",
       "      <td>0.016379</td>\n",
       "      <td>322</td>\n",
       "      <td>2</td>\n",
       "      <td>2</td>\n",
       "      <td>1</td>\n",
       "      <td>64</td>\n",
       "      <td>0.0</td>\n",
       "      <td>91.56</td>\n",
       "      <td>0.175</td>\n",
       "      <td>240</td>\n",
       "      <td>3.01875</td>\n",
       "      <td>0</td>\n",
       "      <td>1800</td>\n",
       "      <td>0</td>\n",
       "      <td>31.3</td>\n",
       "      <td>0</td>\n",
       "      <td>4</td>\n",
       "      <td>15.8270</td>\n",
       "    </tr>\n",
       "    <tr>\n",
       "      <th>604328</th>\n",
       "      <td>510</td>\n",
       "      <td>1198</td>\n",
       "      <td>1</td>\n",
       "      <td>32.1154</td>\n",
       "      <td>17.84500</td>\n",
       "      <td>800</td>\n",
       "      <td>75.0000</td>\n",
       "      <td>0.081731</td>\n",
       "      <td>680</td>\n",
       "      <td>88.2353</td>\n",
       "      <td>0</td>\n",
       "      <td>17.807</td>\n",
       "      <td>222.11</td>\n",
       "      <td>0</td>\n",
       "      <td>0</td>\n",
       "      <td>0.016379</td>\n",
       "      <td>322</td>\n",
       "      <td>2</td>\n",
       "      <td>2</td>\n",
       "      <td>1</td>\n",
       "      <td>64</td>\n",
       "      <td>0.0</td>\n",
       "      <td>91.56</td>\n",
       "      <td>0.175</td>\n",
       "      <td>240</td>\n",
       "      <td>3.01875</td>\n",
       "      <td>0</td>\n",
       "      <td>1800</td>\n",
       "      <td>0</td>\n",
       "      <td>31.3</td>\n",
       "      <td>0</td>\n",
       "      <td>4</td>\n",
       "      <td>15.8270</td>\n",
       "    </tr>\n",
       "  </tbody>\n",
       "</table>\n",
       "<p>604329 rows × 33 columns</p>\n",
       "</div>"
      ],
      "text/plain": [
       "        TrialID  ObsNum  IsAlert       P1        P2    P3       P4        P5  \\\n",
       "0             0       0        0  34.7406   9.84593  1400  42.8571  0.290601   \n",
       "1             0       1        0  34.4215  13.41120  1400  42.8571  0.290601   \n",
       "2             0       2        0  34.3447  15.18520  1400  42.8571  0.290601   \n",
       "3             0       3        0  34.3421   8.84696  1400  42.8571  0.290601   \n",
       "4             0       4        0  34.3322  14.69940  1400  42.8571  0.290601   \n",
       "...         ...     ...      ...      ...       ...   ...      ...       ...   \n",
       "604324      510    1194        1  32.0051  10.13240   800  75.0000  0.081731   \n",
       "604325      510    1195        1  32.0393  12.45040   800  75.0000  0.081731   \n",
       "604326      510    1196        1  32.0762  10.06180   800  75.0000  0.081731   \n",
       "604327      510    1197        1  32.1154  17.84500   800  75.0000  0.081731   \n",
       "604328      510    1198        1  32.1154  17.84500   800  75.0000  0.081731   \n",
       "\n",
       "         P6        P7  P8      E1      E2  E3  E4        E5   E6  E7  E8  E9  \\\n",
       "0       572  104.8950   0   0.000    0.00   1 -20  0.015875  324   1   1   1   \n",
       "1       572  104.8950   0   0.000    0.00   1 -20  0.015875  324   1   1   1   \n",
       "2       576  104.1670   0   0.000    0.00   1 -20  0.015875  324   1   1   1   \n",
       "3       576  104.1670   0   0.000    0.00   1 -20  0.015875  324   1   1   1   \n",
       "4       576  104.1670   0   0.000    0.00   1 -20  0.015875  324   1   1   1   \n",
       "...     ...       ...  ..     ...     ...  ..  ..       ...  ...  ..  ..  ..   \n",
       "604324  680   88.2353   0  17.807  222.11   0   0  0.016379  322   2   2   1   \n",
       "604325  680   88.2353   0  17.807  222.11   0   0  0.016379  322   2   2   1   \n",
       "604326  680   88.2353   0  17.807  222.11   0   0  0.016379  322   2   2   1   \n",
       "604327  680   88.2353   0  17.807  222.11   0   0  0.016379  322   2   2   1   \n",
       "604328  680   88.2353   0  17.807  222.11   0   0  0.016379  322   2   2   1   \n",
       "\n",
       "        E10  E11      V1     V2   V3       V4  V5    V6  V7    V8  V9  V10  \\\n",
       "0        57  0.0  101.96  0.175  752  5.99375   0  2005   0  13.4   0    4   \n",
       "1        57  0.0  101.98  0.455  752  5.99375   0  2007   0  13.4   0    4   \n",
       "2        57  0.0  101.97  0.280  752  5.99375   0  2011   0  13.4   0    4   \n",
       "3        57  0.0  101.99  0.070  752  5.99375   0  2015   0  13.4   0    4   \n",
       "4        57  0.0  102.07  0.175  752  5.99375   0  2017   0  13.4   0    4   \n",
       "...     ...  ...     ...    ...  ...      ...  ..   ...  ..   ...  ..  ...   \n",
       "604324   64  0.0   91.51  0.280  240  3.01875   0  1801   0  30.4   0    4   \n",
       "604325   64  0.0   91.51  0.280  240  3.01875   0  1801   0  30.4   0    4   \n",
       "604326   64  0.0   91.56  0.175  240  3.01875   0  1800   0  31.3   0    4   \n",
       "604327   64  0.0   91.56  0.175  240  3.01875   0  1800   0  31.3   0    4   \n",
       "604328   64  0.0   91.56  0.175  240  3.01875   0  1800   0  31.3   0    4   \n",
       "\n",
       "            V11  \n",
       "0       14.8004  \n",
       "1       14.7729  \n",
       "2       14.7736  \n",
       "3       14.7667  \n",
       "4       14.7757  \n",
       "...         ...  \n",
       "604324  15.8113  \n",
       "604325  15.8018  \n",
       "604326  15.8120  \n",
       "604327  15.8270  \n",
       "604328  15.8270  \n",
       "\n",
       "[604329 rows x 33 columns]"
      ]
     },
     "execution_count": 5,
     "metadata": {},
     "output_type": "execute_result"
    }
   ],
   "source": [
    "train"
   ]
  },
  {
   "cell_type": "code",
   "execution_count": 6,
   "metadata": {
    "colab": {
     "base_uri": "https://localhost:8080/",
     "height": 377
    },
    "executionInfo": {
     "elapsed": 32,
     "status": "ok",
     "timestamp": 1628795663866,
     "user": {
      "displayName": "Gbolahan Aina",
      "photoUrl": "https://lh3.googleusercontent.com/a-/AOh14GgwLohnVy9DIPOUXPShxvtPY1zsdv1KN1Gj74XbHA=s64",
      "userId": "04759338744272072118"
     },
     "user_tz": -60
    },
    "id": "MV3lE8IVQRrx",
    "outputId": "efb54192-1907-4344-8d54-91cfb1b38b5c"
   },
   "outputs": [
    {
     "data": {
      "text/html": [
       "<div>\n",
       "<style scoped>\n",
       "    .dataframe tbody tr th:only-of-type {\n",
       "        vertical-align: middle;\n",
       "    }\n",
       "\n",
       "    .dataframe tbody tr th {\n",
       "        vertical-align: top;\n",
       "    }\n",
       "\n",
       "    .dataframe thead th {\n",
       "        text-align: right;\n",
       "    }\n",
       "</style>\n",
       "<table border=\"1\" class=\"dataframe\">\n",
       "  <thead>\n",
       "    <tr style=\"text-align: right;\">\n",
       "      <th></th>\n",
       "      <th>TrialID</th>\n",
       "      <th>ObsNum</th>\n",
       "      <th>IsAlert</th>\n",
       "      <th>P1</th>\n",
       "      <th>P2</th>\n",
       "      <th>P3</th>\n",
       "      <th>P4</th>\n",
       "      <th>P5</th>\n",
       "      <th>P6</th>\n",
       "      <th>P7</th>\n",
       "      <th>P8</th>\n",
       "      <th>E1</th>\n",
       "      <th>E2</th>\n",
       "      <th>E3</th>\n",
       "      <th>E4</th>\n",
       "      <th>E5</th>\n",
       "      <th>E6</th>\n",
       "      <th>E7</th>\n",
       "      <th>E8</th>\n",
       "      <th>E9</th>\n",
       "      <th>E10</th>\n",
       "      <th>E11</th>\n",
       "      <th>V1</th>\n",
       "      <th>V2</th>\n",
       "      <th>V3</th>\n",
       "      <th>V4</th>\n",
       "      <th>V5</th>\n",
       "      <th>V6</th>\n",
       "      <th>V7</th>\n",
       "      <th>V8</th>\n",
       "      <th>V9</th>\n",
       "      <th>V10</th>\n",
       "      <th>V11</th>\n",
       "    </tr>\n",
       "  </thead>\n",
       "  <tbody>\n",
       "    <tr>\n",
       "      <th>0</th>\n",
       "      <td>0</td>\n",
       "      <td>0</td>\n",
       "      <td>0</td>\n",
       "      <td>34.7406</td>\n",
       "      <td>9.84593</td>\n",
       "      <td>1400</td>\n",
       "      <td>42.8571</td>\n",
       "      <td>0.290601</td>\n",
       "      <td>572</td>\n",
       "      <td>104.895</td>\n",
       "      <td>0</td>\n",
       "      <td>0.0</td>\n",
       "      <td>0.0</td>\n",
       "      <td>1</td>\n",
       "      <td>-20</td>\n",
       "      <td>0.015875</td>\n",
       "      <td>324</td>\n",
       "      <td>1</td>\n",
       "      <td>1</td>\n",
       "      <td>1</td>\n",
       "      <td>57</td>\n",
       "      <td>0.0</td>\n",
       "      <td>101.96</td>\n",
       "      <td>0.175</td>\n",
       "      <td>752</td>\n",
       "      <td>5.99375</td>\n",
       "      <td>0</td>\n",
       "      <td>2005</td>\n",
       "      <td>0</td>\n",
       "      <td>13.4</td>\n",
       "      <td>0</td>\n",
       "      <td>4</td>\n",
       "      <td>14.8004</td>\n",
       "    </tr>\n",
       "    <tr>\n",
       "      <th>1</th>\n",
       "      <td>0</td>\n",
       "      <td>1</td>\n",
       "      <td>0</td>\n",
       "      <td>34.4215</td>\n",
       "      <td>13.41120</td>\n",
       "      <td>1400</td>\n",
       "      <td>42.8571</td>\n",
       "      <td>0.290601</td>\n",
       "      <td>572</td>\n",
       "      <td>104.895</td>\n",
       "      <td>0</td>\n",
       "      <td>0.0</td>\n",
       "      <td>0.0</td>\n",
       "      <td>1</td>\n",
       "      <td>-20</td>\n",
       "      <td>0.015875</td>\n",
       "      <td>324</td>\n",
       "      <td>1</td>\n",
       "      <td>1</td>\n",
       "      <td>1</td>\n",
       "      <td>57</td>\n",
       "      <td>0.0</td>\n",
       "      <td>101.98</td>\n",
       "      <td>0.455</td>\n",
       "      <td>752</td>\n",
       "      <td>5.99375</td>\n",
       "      <td>0</td>\n",
       "      <td>2007</td>\n",
       "      <td>0</td>\n",
       "      <td>13.4</td>\n",
       "      <td>0</td>\n",
       "      <td>4</td>\n",
       "      <td>14.7729</td>\n",
       "    </tr>\n",
       "    <tr>\n",
       "      <th>2</th>\n",
       "      <td>0</td>\n",
       "      <td>2</td>\n",
       "      <td>0</td>\n",
       "      <td>34.3447</td>\n",
       "      <td>15.18520</td>\n",
       "      <td>1400</td>\n",
       "      <td>42.8571</td>\n",
       "      <td>0.290601</td>\n",
       "      <td>576</td>\n",
       "      <td>104.167</td>\n",
       "      <td>0</td>\n",
       "      <td>0.0</td>\n",
       "      <td>0.0</td>\n",
       "      <td>1</td>\n",
       "      <td>-20</td>\n",
       "      <td>0.015875</td>\n",
       "      <td>324</td>\n",
       "      <td>1</td>\n",
       "      <td>1</td>\n",
       "      <td>1</td>\n",
       "      <td>57</td>\n",
       "      <td>0.0</td>\n",
       "      <td>101.97</td>\n",
       "      <td>0.280</td>\n",
       "      <td>752</td>\n",
       "      <td>5.99375</td>\n",
       "      <td>0</td>\n",
       "      <td>2011</td>\n",
       "      <td>0</td>\n",
       "      <td>13.4</td>\n",
       "      <td>0</td>\n",
       "      <td>4</td>\n",
       "      <td>14.7736</td>\n",
       "    </tr>\n",
       "    <tr>\n",
       "      <th>3</th>\n",
       "      <td>0</td>\n",
       "      <td>3</td>\n",
       "      <td>0</td>\n",
       "      <td>34.3421</td>\n",
       "      <td>8.84696</td>\n",
       "      <td>1400</td>\n",
       "      <td>42.8571</td>\n",
       "      <td>0.290601</td>\n",
       "      <td>576</td>\n",
       "      <td>104.167</td>\n",
       "      <td>0</td>\n",
       "      <td>0.0</td>\n",
       "      <td>0.0</td>\n",
       "      <td>1</td>\n",
       "      <td>-20</td>\n",
       "      <td>0.015875</td>\n",
       "      <td>324</td>\n",
       "      <td>1</td>\n",
       "      <td>1</td>\n",
       "      <td>1</td>\n",
       "      <td>57</td>\n",
       "      <td>0.0</td>\n",
       "      <td>101.99</td>\n",
       "      <td>0.070</td>\n",
       "      <td>752</td>\n",
       "      <td>5.99375</td>\n",
       "      <td>0</td>\n",
       "      <td>2015</td>\n",
       "      <td>0</td>\n",
       "      <td>13.4</td>\n",
       "      <td>0</td>\n",
       "      <td>4</td>\n",
       "      <td>14.7667</td>\n",
       "    </tr>\n",
       "    <tr>\n",
       "      <th>4</th>\n",
       "      <td>0</td>\n",
       "      <td>4</td>\n",
       "      <td>0</td>\n",
       "      <td>34.3322</td>\n",
       "      <td>14.69940</td>\n",
       "      <td>1400</td>\n",
       "      <td>42.8571</td>\n",
       "      <td>0.290601</td>\n",
       "      <td>576</td>\n",
       "      <td>104.167</td>\n",
       "      <td>0</td>\n",
       "      <td>0.0</td>\n",
       "      <td>0.0</td>\n",
       "      <td>1</td>\n",
       "      <td>-20</td>\n",
       "      <td>0.015875</td>\n",
       "      <td>324</td>\n",
       "      <td>1</td>\n",
       "      <td>1</td>\n",
       "      <td>1</td>\n",
       "      <td>57</td>\n",
       "      <td>0.0</td>\n",
       "      <td>102.07</td>\n",
       "      <td>0.175</td>\n",
       "      <td>752</td>\n",
       "      <td>5.99375</td>\n",
       "      <td>0</td>\n",
       "      <td>2017</td>\n",
       "      <td>0</td>\n",
       "      <td>13.4</td>\n",
       "      <td>0</td>\n",
       "      <td>4</td>\n",
       "      <td>14.7757</td>\n",
       "    </tr>\n",
       "    <tr>\n",
       "      <th>5</th>\n",
       "      <td>0</td>\n",
       "      <td>5</td>\n",
       "      <td>0</td>\n",
       "      <td>34.3729</td>\n",
       "      <td>13.64440</td>\n",
       "      <td>1400</td>\n",
       "      <td>42.8571</td>\n",
       "      <td>0.290601</td>\n",
       "      <td>576</td>\n",
       "      <td>104.167</td>\n",
       "      <td>0</td>\n",
       "      <td>0.0</td>\n",
       "      <td>0.0</td>\n",
       "      <td>1</td>\n",
       "      <td>-20</td>\n",
       "      <td>0.015875</td>\n",
       "      <td>324</td>\n",
       "      <td>1</td>\n",
       "      <td>1</td>\n",
       "      <td>1</td>\n",
       "      <td>57</td>\n",
       "      <td>0.0</td>\n",
       "      <td>102.00</td>\n",
       "      <td>0.280</td>\n",
       "      <td>752</td>\n",
       "      <td>5.99375</td>\n",
       "      <td>0</td>\n",
       "      <td>2016</td>\n",
       "      <td>0</td>\n",
       "      <td>13.4</td>\n",
       "      <td>0</td>\n",
       "      <td>4</td>\n",
       "      <td>14.7498</td>\n",
       "    </tr>\n",
       "    <tr>\n",
       "      <th>6</th>\n",
       "      <td>0</td>\n",
       "      <td>6</td>\n",
       "      <td>0</td>\n",
       "      <td>34.3851</td>\n",
       "      <td>10.16540</td>\n",
       "      <td>1400</td>\n",
       "      <td>42.8571</td>\n",
       "      <td>0.290601</td>\n",
       "      <td>576</td>\n",
       "      <td>104.167</td>\n",
       "      <td>0</td>\n",
       "      <td>0.0</td>\n",
       "      <td>0.0</td>\n",
       "      <td>1</td>\n",
       "      <td>-20</td>\n",
       "      <td>0.015875</td>\n",
       "      <td>324</td>\n",
       "      <td>1</td>\n",
       "      <td>1</td>\n",
       "      <td>1</td>\n",
       "      <td>57</td>\n",
       "      <td>0.0</td>\n",
       "      <td>102.01</td>\n",
       "      <td>0.175</td>\n",
       "      <td>752</td>\n",
       "      <td>5.99375</td>\n",
       "      <td>0</td>\n",
       "      <td>2016</td>\n",
       "      <td>0</td>\n",
       "      <td>13.4</td>\n",
       "      <td>0</td>\n",
       "      <td>4</td>\n",
       "      <td>14.7578</td>\n",
       "    </tr>\n",
       "    <tr>\n",
       "      <th>7</th>\n",
       "      <td>0</td>\n",
       "      <td>7</td>\n",
       "      <td>0</td>\n",
       "      <td>34.4313</td>\n",
       "      <td>13.32700</td>\n",
       "      <td>1400</td>\n",
       "      <td>42.8571</td>\n",
       "      <td>0.290601</td>\n",
       "      <td>576</td>\n",
       "      <td>104.167</td>\n",
       "      <td>0</td>\n",
       "      <td>0.0</td>\n",
       "      <td>0.0</td>\n",
       "      <td>1</td>\n",
       "      <td>-20</td>\n",
       "      <td>0.015875</td>\n",
       "      <td>324</td>\n",
       "      <td>1</td>\n",
       "      <td>1</td>\n",
       "      <td>1</td>\n",
       "      <td>57</td>\n",
       "      <td>0.0</td>\n",
       "      <td>101.93</td>\n",
       "      <td>0.280</td>\n",
       "      <td>752</td>\n",
       "      <td>5.99375</td>\n",
       "      <td>0</td>\n",
       "      <td>2011</td>\n",
       "      <td>0</td>\n",
       "      <td>13.4</td>\n",
       "      <td>0</td>\n",
       "      <td>4</td>\n",
       "      <td>14.7729</td>\n",
       "    </tr>\n",
       "    <tr>\n",
       "      <th>8</th>\n",
       "      <td>0</td>\n",
       "      <td>8</td>\n",
       "      <td>0</td>\n",
       "      <td>34.4970</td>\n",
       "      <td>17.71240</td>\n",
       "      <td>1400</td>\n",
       "      <td>42.8571</td>\n",
       "      <td>0.290601</td>\n",
       "      <td>592</td>\n",
       "      <td>101.351</td>\n",
       "      <td>0</td>\n",
       "      <td>0.0</td>\n",
       "      <td>0.0</td>\n",
       "      <td>1</td>\n",
       "      <td>-20</td>\n",
       "      <td>0.015875</td>\n",
       "      <td>324</td>\n",
       "      <td>1</td>\n",
       "      <td>1</td>\n",
       "      <td>1</td>\n",
       "      <td>57</td>\n",
       "      <td>0.0</td>\n",
       "      <td>101.88</td>\n",
       "      <td>0.070</td>\n",
       "      <td>752</td>\n",
       "      <td>5.99375</td>\n",
       "      <td>0</td>\n",
       "      <td>2011</td>\n",
       "      <td>0</td>\n",
       "      <td>13.4</td>\n",
       "      <td>0</td>\n",
       "      <td>4</td>\n",
       "      <td>14.7835</td>\n",
       "    </tr>\n",
       "    <tr>\n",
       "      <th>9</th>\n",
       "      <td>0</td>\n",
       "      <td>9</td>\n",
       "      <td>0</td>\n",
       "      <td>34.5994</td>\n",
       "      <td>6.88282</td>\n",
       "      <td>1400</td>\n",
       "      <td>42.8571</td>\n",
       "      <td>0.290601</td>\n",
       "      <td>592</td>\n",
       "      <td>101.351</td>\n",
       "      <td>0</td>\n",
       "      <td>0.0</td>\n",
       "      <td>0.0</td>\n",
       "      <td>1</td>\n",
       "      <td>-20</td>\n",
       "      <td>0.015875</td>\n",
       "      <td>324</td>\n",
       "      <td>1</td>\n",
       "      <td>1</td>\n",
       "      <td>1</td>\n",
       "      <td>57</td>\n",
       "      <td>0.0</td>\n",
       "      <td>101.93</td>\n",
       "      <td>0.175</td>\n",
       "      <td>752</td>\n",
       "      <td>5.99375</td>\n",
       "      <td>0</td>\n",
       "      <td>2012</td>\n",
       "      <td>0</td>\n",
       "      <td>13.4</td>\n",
       "      <td>0</td>\n",
       "      <td>4</td>\n",
       "      <td>14.7757</td>\n",
       "    </tr>\n",
       "  </tbody>\n",
       "</table>\n",
       "</div>"
      ],
      "text/plain": [
       "   TrialID  ObsNum  IsAlert       P1        P2    P3       P4        P5   P6  \\\n",
       "0        0       0        0  34.7406   9.84593  1400  42.8571  0.290601  572   \n",
       "1        0       1        0  34.4215  13.41120  1400  42.8571  0.290601  572   \n",
       "2        0       2        0  34.3447  15.18520  1400  42.8571  0.290601  576   \n",
       "3        0       3        0  34.3421   8.84696  1400  42.8571  0.290601  576   \n",
       "4        0       4        0  34.3322  14.69940  1400  42.8571  0.290601  576   \n",
       "5        0       5        0  34.3729  13.64440  1400  42.8571  0.290601  576   \n",
       "6        0       6        0  34.3851  10.16540  1400  42.8571  0.290601  576   \n",
       "7        0       7        0  34.4313  13.32700  1400  42.8571  0.290601  576   \n",
       "8        0       8        0  34.4970  17.71240  1400  42.8571  0.290601  592   \n",
       "9        0       9        0  34.5994   6.88282  1400  42.8571  0.290601  592   \n",
       "\n",
       "        P7  P8   E1   E2  E3  E4        E5   E6  E7  E8  E9  E10  E11      V1  \\\n",
       "0  104.895   0  0.0  0.0   1 -20  0.015875  324   1   1   1   57  0.0  101.96   \n",
       "1  104.895   0  0.0  0.0   1 -20  0.015875  324   1   1   1   57  0.0  101.98   \n",
       "2  104.167   0  0.0  0.0   1 -20  0.015875  324   1   1   1   57  0.0  101.97   \n",
       "3  104.167   0  0.0  0.0   1 -20  0.015875  324   1   1   1   57  0.0  101.99   \n",
       "4  104.167   0  0.0  0.0   1 -20  0.015875  324   1   1   1   57  0.0  102.07   \n",
       "5  104.167   0  0.0  0.0   1 -20  0.015875  324   1   1   1   57  0.0  102.00   \n",
       "6  104.167   0  0.0  0.0   1 -20  0.015875  324   1   1   1   57  0.0  102.01   \n",
       "7  104.167   0  0.0  0.0   1 -20  0.015875  324   1   1   1   57  0.0  101.93   \n",
       "8  101.351   0  0.0  0.0   1 -20  0.015875  324   1   1   1   57  0.0  101.88   \n",
       "9  101.351   0  0.0  0.0   1 -20  0.015875  324   1   1   1   57  0.0  101.93   \n",
       "\n",
       "      V2   V3       V4  V5    V6  V7    V8  V9  V10      V11  \n",
       "0  0.175  752  5.99375   0  2005   0  13.4   0    4  14.8004  \n",
       "1  0.455  752  5.99375   0  2007   0  13.4   0    4  14.7729  \n",
       "2  0.280  752  5.99375   0  2011   0  13.4   0    4  14.7736  \n",
       "3  0.070  752  5.99375   0  2015   0  13.4   0    4  14.7667  \n",
       "4  0.175  752  5.99375   0  2017   0  13.4   0    4  14.7757  \n",
       "5  0.280  752  5.99375   0  2016   0  13.4   0    4  14.7498  \n",
       "6  0.175  752  5.99375   0  2016   0  13.4   0    4  14.7578  \n",
       "7  0.280  752  5.99375   0  2011   0  13.4   0    4  14.7729  \n",
       "8  0.070  752  5.99375   0  2011   0  13.4   0    4  14.7835  \n",
       "9  0.175  752  5.99375   0  2012   0  13.4   0    4  14.7757  "
      ]
     },
     "execution_count": 6,
     "metadata": {},
     "output_type": "execute_result"
    }
   ],
   "source": [
    "train.head(10)"
   ]
  },
  {
   "cell_type": "code",
   "execution_count": null,
   "metadata": {
    "executionInfo": {
     "elapsed": 29,
     "status": "ok",
     "timestamp": 1628795663868,
     "user": {
      "displayName": "Gbolahan Aina",
      "photoUrl": "https://lh3.googleusercontent.com/a-/AOh14GgwLohnVy9DIPOUXPShxvtPY1zsdv1KN1Gj74XbHA=s64",
      "userId": "04759338744272072118"
     },
     "user_tz": -60
    },
    "id": "iKZ4957yQRry"
   },
   "outputs": [],
   "source": []
  },
  {
   "cell_type": "markdown",
   "metadata": {
    "id": "boo3floe-WMw"
   },
   "source": [
    "The Test Data will be store as the test variable"
   ]
  },
  {
   "cell_type": "code",
   "execution_count": 7,
   "metadata": {
    "executionInfo": {
     "elapsed": 421,
     "status": "ok",
     "timestamp": 1628795665441,
     "user": {
      "displayName": "Gbolahan Aina",
      "photoUrl": "https://lh3.googleusercontent.com/a-/AOh14GgwLohnVy9DIPOUXPShxvtPY1zsdv1KN1Gj74XbHA=s64",
      "userId": "04759338744272072118"
     },
     "user_tz": -60
    },
    "id": "Ef2VgCOZQRry"
   },
   "outputs": [],
   "source": [
    "test = pd.read_csv('stayalert/fordTest.csv')"
   ]
  },
  {
   "cell_type": "markdown",
   "metadata": {
    "id": "imFCxQZw-WMx"
   },
   "source": [
    "Previewing a part of the data to understand the data"
   ]
  },
  {
   "cell_type": "code",
   "execution_count": 8,
   "metadata": {
    "colab": {
     "base_uri": "https://localhost:8080/",
     "height": 223
    },
    "executionInfo": {
     "elapsed": 17,
     "status": "ok",
     "timestamp": 1628795665443,
     "user": {
      "displayName": "Gbolahan Aina",
      "photoUrl": "https://lh3.googleusercontent.com/a-/AOh14GgwLohnVy9DIPOUXPShxvtPY1zsdv1KN1Gj74XbHA=s64",
      "userId": "04759338744272072118"
     },
     "user_tz": -60
    },
    "id": "Futd5cxJQRry",
    "outputId": "33576dec-81ab-44c0-9908-644b153d6e3c"
   },
   "outputs": [
    {
     "data": {
      "text/html": [
       "<div>\n",
       "<style scoped>\n",
       "    .dataframe tbody tr th:only-of-type {\n",
       "        vertical-align: middle;\n",
       "    }\n",
       "\n",
       "    .dataframe tbody tr th {\n",
       "        vertical-align: top;\n",
       "    }\n",
       "\n",
       "    .dataframe thead th {\n",
       "        text-align: right;\n",
       "    }\n",
       "</style>\n",
       "<table border=\"1\" class=\"dataframe\">\n",
       "  <thead>\n",
       "    <tr style=\"text-align: right;\">\n",
       "      <th></th>\n",
       "      <th>TrialID</th>\n",
       "      <th>ObsNum</th>\n",
       "      <th>IsAlert</th>\n",
       "      <th>P1</th>\n",
       "      <th>P2</th>\n",
       "      <th>P3</th>\n",
       "      <th>P4</th>\n",
       "      <th>P5</th>\n",
       "      <th>P6</th>\n",
       "      <th>P7</th>\n",
       "      <th>P8</th>\n",
       "      <th>E1</th>\n",
       "      <th>E2</th>\n",
       "      <th>E3</th>\n",
       "      <th>E4</th>\n",
       "      <th>E5</th>\n",
       "      <th>E6</th>\n",
       "      <th>E7</th>\n",
       "      <th>E8</th>\n",
       "      <th>E9</th>\n",
       "      <th>E10</th>\n",
       "      <th>E11</th>\n",
       "      <th>V1</th>\n",
       "      <th>V2</th>\n",
       "      <th>V3</th>\n",
       "      <th>V4</th>\n",
       "      <th>V5</th>\n",
       "      <th>V6</th>\n",
       "      <th>V7</th>\n",
       "      <th>V8</th>\n",
       "      <th>V9</th>\n",
       "      <th>V10</th>\n",
       "      <th>V11</th>\n",
       "    </tr>\n",
       "  </thead>\n",
       "  <tbody>\n",
       "    <tr>\n",
       "      <th>0</th>\n",
       "      <td>0</td>\n",
       "      <td>0</td>\n",
       "      <td>?</td>\n",
       "      <td>38.4294</td>\n",
       "      <td>10.9435</td>\n",
       "      <td>1000</td>\n",
       "      <td>60.0</td>\n",
       "      <td>0.302277</td>\n",
       "      <td>508</td>\n",
       "      <td>118.110</td>\n",
       "      <td>0</td>\n",
       "      <td>0.0</td>\n",
       "      <td>0.0</td>\n",
       "      <td>4</td>\n",
       "      <td>4</td>\n",
       "      <td>0.015434</td>\n",
       "      <td>328</td>\n",
       "      <td>1</td>\n",
       "      <td>1</td>\n",
       "      <td>1</td>\n",
       "      <td>64</td>\n",
       "      <td>0.0</td>\n",
       "      <td>108.57</td>\n",
       "      <td>0.00</td>\n",
       "      <td>255</td>\n",
       "      <td>4.50625</td>\n",
       "      <td>0</td>\n",
       "      <td>2127</td>\n",
       "      <td>0</td>\n",
       "      <td>17.6</td>\n",
       "      <td>0</td>\n",
       "      <td>4</td>\n",
       "      <td>16.1937</td>\n",
       "    </tr>\n",
       "    <tr>\n",
       "      <th>1</th>\n",
       "      <td>0</td>\n",
       "      <td>1</td>\n",
       "      <td>?</td>\n",
       "      <td>38.3609</td>\n",
       "      <td>15.3212</td>\n",
       "      <td>1000</td>\n",
       "      <td>60.0</td>\n",
       "      <td>0.302277</td>\n",
       "      <td>508</td>\n",
       "      <td>118.110</td>\n",
       "      <td>0</td>\n",
       "      <td>0.0</td>\n",
       "      <td>0.0</td>\n",
       "      <td>4</td>\n",
       "      <td>4</td>\n",
       "      <td>0.015434</td>\n",
       "      <td>328</td>\n",
       "      <td>1</td>\n",
       "      <td>1</td>\n",
       "      <td>1</td>\n",
       "      <td>64</td>\n",
       "      <td>0.0</td>\n",
       "      <td>108.57</td>\n",
       "      <td>0.00</td>\n",
       "      <td>255</td>\n",
       "      <td>4.50625</td>\n",
       "      <td>0</td>\n",
       "      <td>2127</td>\n",
       "      <td>0</td>\n",
       "      <td>17.6</td>\n",
       "      <td>0</td>\n",
       "      <td>4</td>\n",
       "      <td>16.1744</td>\n",
       "    </tr>\n",
       "    <tr>\n",
       "      <th>2</th>\n",
       "      <td>0</td>\n",
       "      <td>2</td>\n",
       "      <td>?</td>\n",
       "      <td>38.2342</td>\n",
       "      <td>11.5140</td>\n",
       "      <td>1000</td>\n",
       "      <td>60.0</td>\n",
       "      <td>0.302277</td>\n",
       "      <td>508</td>\n",
       "      <td>118.110</td>\n",
       "      <td>0</td>\n",
       "      <td>0.0</td>\n",
       "      <td>0.0</td>\n",
       "      <td>4</td>\n",
       "      <td>8</td>\n",
       "      <td>0.015938</td>\n",
       "      <td>328</td>\n",
       "      <td>1</td>\n",
       "      <td>1</td>\n",
       "      <td>1</td>\n",
       "      <td>65</td>\n",
       "      <td>0.0</td>\n",
       "      <td>108.65</td>\n",
       "      <td>0.07</td>\n",
       "      <td>255</td>\n",
       "      <td>4.50625</td>\n",
       "      <td>0</td>\n",
       "      <td>2131</td>\n",
       "      <td>0</td>\n",
       "      <td>17.6</td>\n",
       "      <td>0</td>\n",
       "      <td>4</td>\n",
       "      <td>16.1602</td>\n",
       "    </tr>\n",
       "    <tr>\n",
       "      <th>3</th>\n",
       "      <td>0</td>\n",
       "      <td>3</td>\n",
       "      <td>?</td>\n",
       "      <td>37.9304</td>\n",
       "      <td>12.2615</td>\n",
       "      <td>1000</td>\n",
       "      <td>60.0</td>\n",
       "      <td>0.302277</td>\n",
       "      <td>508</td>\n",
       "      <td>118.110</td>\n",
       "      <td>0</td>\n",
       "      <td>0.0</td>\n",
       "      <td>0.0</td>\n",
       "      <td>4</td>\n",
       "      <td>8</td>\n",
       "      <td>0.015938</td>\n",
       "      <td>328</td>\n",
       "      <td>1</td>\n",
       "      <td>1</td>\n",
       "      <td>1</td>\n",
       "      <td>65</td>\n",
       "      <td>0.0</td>\n",
       "      <td>108.65</td>\n",
       "      <td>0.07</td>\n",
       "      <td>255</td>\n",
       "      <td>4.50625</td>\n",
       "      <td>0</td>\n",
       "      <td>2131</td>\n",
       "      <td>0</td>\n",
       "      <td>17.6</td>\n",
       "      <td>0</td>\n",
       "      <td>4</td>\n",
       "      <td>16.1725</td>\n",
       "    </tr>\n",
       "    <tr>\n",
       "      <th>4</th>\n",
       "      <td>0</td>\n",
       "      <td>4</td>\n",
       "      <td>?</td>\n",
       "      <td>37.8085</td>\n",
       "      <td>12.3666</td>\n",
       "      <td>1000</td>\n",
       "      <td>60.0</td>\n",
       "      <td>0.302277</td>\n",
       "      <td>504</td>\n",
       "      <td>119.048</td>\n",
       "      <td>0</td>\n",
       "      <td>0.0</td>\n",
       "      <td>0.0</td>\n",
       "      <td>4</td>\n",
       "      <td>8</td>\n",
       "      <td>0.015938</td>\n",
       "      <td>328</td>\n",
       "      <td>1</td>\n",
       "      <td>1</td>\n",
       "      <td>1</td>\n",
       "      <td>65</td>\n",
       "      <td>0.0</td>\n",
       "      <td>108.57</td>\n",
       "      <td>0.00</td>\n",
       "      <td>255</td>\n",
       "      <td>4.50625</td>\n",
       "      <td>0</td>\n",
       "      <td>2136</td>\n",
       "      <td>0</td>\n",
       "      <td>17.6</td>\n",
       "      <td>0</td>\n",
       "      <td>4</td>\n",
       "      <td>16.1459</td>\n",
       "    </tr>\n",
       "  </tbody>\n",
       "</table>\n",
       "</div>"
      ],
      "text/plain": [
       "   TrialID  ObsNum IsAlert       P1       P2    P3    P4        P5   P6  \\\n",
       "0        0       0       ?  38.4294  10.9435  1000  60.0  0.302277  508   \n",
       "1        0       1       ?  38.3609  15.3212  1000  60.0  0.302277  508   \n",
       "2        0       2       ?  38.2342  11.5140  1000  60.0  0.302277  508   \n",
       "3        0       3       ?  37.9304  12.2615  1000  60.0  0.302277  508   \n",
       "4        0       4       ?  37.8085  12.3666  1000  60.0  0.302277  504   \n",
       "\n",
       "        P7  P8   E1   E2  E3  E4        E5   E6  E7  E8  E9  E10  E11      V1  \\\n",
       "0  118.110   0  0.0  0.0   4   4  0.015434  328   1   1   1   64  0.0  108.57   \n",
       "1  118.110   0  0.0  0.0   4   4  0.015434  328   1   1   1   64  0.0  108.57   \n",
       "2  118.110   0  0.0  0.0   4   8  0.015938  328   1   1   1   65  0.0  108.65   \n",
       "3  118.110   0  0.0  0.0   4   8  0.015938  328   1   1   1   65  0.0  108.65   \n",
       "4  119.048   0  0.0  0.0   4   8  0.015938  328   1   1   1   65  0.0  108.57   \n",
       "\n",
       "     V2   V3       V4  V5    V6  V7    V8  V9  V10      V11  \n",
       "0  0.00  255  4.50625   0  2127   0  17.6   0    4  16.1937  \n",
       "1  0.00  255  4.50625   0  2127   0  17.6   0    4  16.1744  \n",
       "2  0.07  255  4.50625   0  2131   0  17.6   0    4  16.1602  \n",
       "3  0.07  255  4.50625   0  2131   0  17.6   0    4  16.1725  \n",
       "4  0.00  255  4.50625   0  2136   0  17.6   0    4  16.1459  "
      ]
     },
     "execution_count": 8,
     "metadata": {},
     "output_type": "execute_result"
    }
   ],
   "source": [
    "test.head()"
   ]
  },
  {
   "cell_type": "code",
   "execution_count": null,
   "metadata": {
    "executionInfo": {
     "elapsed": 17,
     "status": "ok",
     "timestamp": 1628795665446,
     "user": {
      "displayName": "Gbolahan Aina",
      "photoUrl": "https://lh3.googleusercontent.com/a-/AOh14GgwLohnVy9DIPOUXPShxvtPY1zsdv1KN1Gj74XbHA=s64",
      "userId": "04759338744272072118"
     },
     "user_tz": -60
    },
    "id": "zEENqOri-WMx"
   },
   "outputs": [],
   "source": []
  },
  {
   "cell_type": "markdown",
   "metadata": {
    "id": "DQAaUJIZQRrz"
   },
   "source": [
    "Here we will divide the data into the Input and Target Data"
   ]
  },
  {
   "cell_type": "code",
   "execution_count": 9,
   "metadata": {
    "executionInfo": {
     "elapsed": 536,
     "status": "ok",
     "timestamp": 1628800417742,
     "user": {
      "displayName": "Gbolahan Aina",
      "photoUrl": "https://lh3.googleusercontent.com/a-/AOh14GgwLohnVy9DIPOUXPShxvtPY1zsdv1KN1Gj74XbHA=s64",
      "userId": "04759338744272072118"
     },
     "user_tz": -60
    },
    "id": "jjQQNoGkQRrz"
   },
   "outputs": [],
   "source": [
    "input_col = list(train.columns)[3:]\n",
    "target_col = list(train.columns)[2:3]\n",
    "input_col_test = list(test.columns)[3:]\n",
    "target_col_test = list(test.columns)[2:3]\n",
    "\n",
    "train_inputs = train[input_col]\n",
    "train_target = train[target_col]\n",
    "test_inputs = test[input_col_test]\n",
    "\n"
   ]
  },
  {
   "cell_type": "code",
   "execution_count": 10,
   "metadata": {
    "colab": {
     "base_uri": "https://localhost:8080/"
    },
    "executionInfo": {
     "elapsed": 617,
     "status": "ok",
     "timestamp": 1628795668779,
     "user": {
      "displayName": "Gbolahan Aina",
      "photoUrl": "https://lh3.googleusercontent.com/a-/AOh14GgwLohnVy9DIPOUXPShxvtPY1zsdv1KN1Gj74XbHA=s64",
      "userId": "04759338744272072118"
     },
     "user_tz": -60
    },
    "id": "dRXQ5WDb-WMz",
    "outputId": "9ba6b140-6520-4398-beee-af634206f6db"
   },
   "outputs": [
    {
     "data": {
      "text/plain": [
       "Index(['IsAlert'], dtype='object')"
      ]
     },
     "execution_count": 10,
     "metadata": {},
     "output_type": "execute_result"
    }
   ],
   "source": [
    "train_target.columns"
   ]
  },
  {
   "cell_type": "code",
   "execution_count": 11,
   "metadata": {
    "colab": {
     "base_uri": "https://localhost:8080/"
    },
    "executionInfo": {
     "elapsed": 23,
     "status": "ok",
     "timestamp": 1628795668780,
     "user": {
      "displayName": "Gbolahan Aina",
      "photoUrl": "https://lh3.googleusercontent.com/a-/AOh14GgwLohnVy9DIPOUXPShxvtPY1zsdv1KN1Gj74XbHA=s64",
      "userId": "04759338744272072118"
     },
     "user_tz": -60
    },
    "id": "d_4nPzh-QRr0",
    "outputId": "50d329c0-e074-48a9-bb0f-e12d5b45ffaa"
   },
   "outputs": [
    {
     "data": {
      "text/plain": [
       "Index(['P1', 'P2', 'P3', 'P4', 'P5', 'P6', 'P7', 'P8', 'E1', 'E2', 'E3', 'E4',\n",
       "       'E5', 'E6', 'E7', 'E8', 'E9', 'E10', 'E11', 'V1', 'V2', 'V3', 'V4',\n",
       "       'V5', 'V6', 'V7', 'V8', 'V9', 'V10', 'V11'],\n",
       "      dtype='object')"
      ]
     },
     "execution_count": 11,
     "metadata": {},
     "output_type": "execute_result"
    }
   ],
   "source": [
    "test_inputs.columns"
   ]
  },
  {
   "cell_type": "code",
   "execution_count": 12,
   "metadata": {
    "colab": {
     "base_uri": "https://localhost:8080/"
    },
    "executionInfo": {
     "elapsed": 15,
     "status": "ok",
     "timestamp": 1628795668781,
     "user": {
      "displayName": "Gbolahan Aina",
      "photoUrl": "https://lh3.googleusercontent.com/a-/AOh14GgwLohnVy9DIPOUXPShxvtPY1zsdv1KN1Gj74XbHA=s64",
      "userId": "04759338744272072118"
     },
     "user_tz": -60
    },
    "id": "LcKyee_xNFfv",
    "outputId": "f1b80b80-3de9-4c27-900b-dea3926ac198"
   },
   "outputs": [
    {
     "name": "stdout",
     "output_type": "stream",
     "text": [
      "<class 'pandas.core.frame.DataFrame'>\n",
      "RangeIndex: 120840 entries, 0 to 120839\n",
      "Data columns (total 33 columns):\n",
      " #   Column   Non-Null Count   Dtype  \n",
      "---  ------   --------------   -----  \n",
      " 0   TrialID  120840 non-null  int64  \n",
      " 1   ObsNum   120840 non-null  int64  \n",
      " 2   IsAlert  120840 non-null  object \n",
      " 3   P1       120840 non-null  float64\n",
      " 4   P2       120840 non-null  float64\n",
      " 5   P3       120840 non-null  int64  \n",
      " 6   P4       120840 non-null  float64\n",
      " 7   P5       120840 non-null  float64\n",
      " 8   P6       120840 non-null  int64  \n",
      " 9   P7       120840 non-null  float64\n",
      " 10  P8       120840 non-null  int64  \n",
      " 11  E1       120840 non-null  float64\n",
      " 12  E2       120840 non-null  float64\n",
      " 13  E3       120840 non-null  int64  \n",
      " 14  E4       120840 non-null  int64  \n",
      " 15  E5       120840 non-null  float64\n",
      " 16  E6       120840 non-null  int64  \n",
      " 17  E7       120840 non-null  int64  \n",
      " 18  E8       120840 non-null  int64  \n",
      " 19  E9       120840 non-null  int64  \n",
      " 20  E10      120840 non-null  int64  \n",
      " 21  E11      120840 non-null  float64\n",
      " 22  V1       120840 non-null  float64\n",
      " 23  V2       120840 non-null  float64\n",
      " 24  V3       120840 non-null  int64  \n",
      " 25  V4       120840 non-null  float64\n",
      " 26  V5       120840 non-null  int64  \n",
      " 27  V6       120840 non-null  int64  \n",
      " 28  V7       120840 non-null  int64  \n",
      " 29  V8       120840 non-null  float64\n",
      " 30  V9       120840 non-null  int64  \n",
      " 31  V10      120840 non-null  int64  \n",
      " 32  V11      120840 non-null  float64\n",
      "dtypes: float64(14), int64(18), object(1)\n",
      "memory usage: 30.4+ MB\n"
     ]
    }
   ],
   "source": [
    "test.info()"
   ]
  },
  {
   "cell_type": "markdown",
   "metadata": {
    "id": "f8tkJRQGQRr0"
   },
   "source": [
    "# Building the Model\n",
    "## Scaling Numeric figure"
   ]
  },
  {
   "cell_type": "code",
   "execution_count": 13,
   "metadata": {
    "executionInfo": {
     "elapsed": 11,
     "status": "ok",
     "timestamp": 1628795668782,
     "user": {
      "displayName": "Gbolahan Aina",
      "photoUrl": "https://lh3.googleusercontent.com/a-/AOh14GgwLohnVy9DIPOUXPShxvtPY1zsdv1KN1Gj74XbHA=s64",
      "userId": "04759338744272072118"
     },
     "user_tz": -60
    },
    "id": "ZwJayK8zQRr1"
   },
   "outputs": [],
   "source": [
    "from sklearn.preprocessing import MinMaxScaler\n",
    "scaler = MinMaxScaler().fit(train_inputs)\n",
    "scaler_1 = MinMaxScaler().fit(test_inputs)"
   ]
  },
  {
   "cell_type": "code",
   "execution_count": 14,
   "metadata": {
    "executionInfo": {
     "elapsed": 10,
     "status": "ok",
     "timestamp": 1628795668782,
     "user": {
      "displayName": "Gbolahan Aina",
      "photoUrl": "https://lh3.googleusercontent.com/a-/AOh14GgwLohnVy9DIPOUXPShxvtPY1zsdv1KN1Gj74XbHA=s64",
      "userId": "04759338744272072118"
     },
     "user_tz": -60
    },
    "id": "O7BcysTdQRr1"
   },
   "outputs": [],
   "source": [
    "train_input = scaler.transform(train_inputs)\n",
    "test_input = scaler_1.transform(test_inputs)"
   ]
  },
  {
   "cell_type": "markdown",
   "metadata": {
    "id": "0VmJeOp4-WM2"
   },
   "source": [
    "## Dividing the data into training and Validation test set"
   ]
  },
  {
   "cell_type": "code",
   "execution_count": 15,
   "metadata": {
    "executionInfo": {
     "elapsed": 366,
     "status": "ok",
     "timestamp": 1628795669139,
     "user": {
      "displayName": "Gbolahan Aina",
      "photoUrl": "https://lh3.googleusercontent.com/a-/AOh14GgwLohnVy9DIPOUXPShxvtPY1zsdv1KN1Gj74XbHA=s64",
      "userId": "04759338744272072118"
     },
     "user_tz": -60
    },
    "id": "mP_KWlWuQRr2"
   },
   "outputs": [],
   "source": [
    "from sklearn.model_selection import train_test_split\n",
    "\n",
    "x = train_inputs\n",
    "y = train_target\n",
    "\n",
    "x_train, x_val, y_train, y_val = train_test_split(x, y, test_size=0.3,random_state= 42)"
   ]
  },
  {
   "cell_type": "code",
   "execution_count": 16,
   "metadata": {
    "colab": {
     "base_uri": "https://localhost:8080/"
    },
    "executionInfo": {
     "elapsed": 11,
     "status": "ok",
     "timestamp": 1628795669140,
     "user": {
      "displayName": "Gbolahan Aina",
      "photoUrl": "https://lh3.googleusercontent.com/a-/AOh14GgwLohnVy9DIPOUXPShxvtPY1zsdv1KN1Gj74XbHA=s64",
      "userId": "04759338744272072118"
     },
     "user_tz": -60
    },
    "id": "vaNHihYG-WM2",
    "outputId": "6e39befd-215c-4c65-df61-89d8a393b869"
   },
   "outputs": [
    {
     "data": {
      "text/plain": [
       "Index(['P1', 'P2', 'P3', 'P4', 'P5', 'P6', 'P7', 'P8', 'E1', 'E2', 'E3', 'E4',\n",
       "       'E5', 'E6', 'E7', 'E8', 'E9', 'E10', 'E11', 'V1', 'V2', 'V3', 'V4',\n",
       "       'V5', 'V6', 'V7', 'V8', 'V9', 'V10', 'V11'],\n",
       "      dtype='object')"
      ]
     },
     "execution_count": 16,
     "metadata": {},
     "output_type": "execute_result"
    }
   ],
   "source": [
    "train_inputs.columns"
   ]
  },
  {
   "cell_type": "code",
   "execution_count": 22,
   "metadata": {
    "colab": {
     "base_uri": "https://localhost:8080/"
    },
    "executionInfo": {
     "elapsed": 7,
     "status": "ok",
     "timestamp": 1628795669140,
     "user": {
      "displayName": "Gbolahan Aina",
      "photoUrl": "https://lh3.googleusercontent.com/a-/AOh14GgwLohnVy9DIPOUXPShxvtPY1zsdv1KN1Gj74XbHA=s64",
      "userId": "04759338744272072118"
     },
     "user_tz": -60
    },
    "id": "M9mYIX91GXZ5",
    "outputId": "bcc1422f-e6ed-4738-de21-99d987b2fd98"
   },
   "outputs": [
    {
     "name": "stdout",
     "output_type": "stream",
     "text": [
      "Len of x_train is : 423030\n",
      "Len of y_train is : 423030\n",
      "Len of x_val is : 181299\n",
      "Len of y_val is : 181299\n"
     ]
    }
   ],
   "source": [
    "print('Len of x_train is :', len(x_train))\n",
    "print('Len of y_train is :', len(y_train))\n",
    "print('Len of x_val is :', len(x_val))\n",
    "print('Len of y_val is :', len(y_val))"
   ]
  },
  {
   "cell_type": "markdown",
   "metadata": {
    "executionInfo": {
     "elapsed": 17,
     "status": "ok",
     "timestamp": 1627812986515,
     "user": {
      "displayName": "Gbolahan Aina",
      "photoUrl": "https://lh3.googleusercontent.com/a-/AOh14GgwLohnVy9DIPOUXPShxvtPY1zsdv1KN1Gj74XbHA=s64",
      "userId": "04759338744272072118"
     },
     "user_tz": 420
    },
    "id": "sHRbw4H1GhTQ",
    "outputId": "4a018e4b-03cb-4b72-9e2a-fe12009142f0"
   },
   "source": [
    "# First Model\n",
    "## Analyzing the driver alertness data using LogisticsRegression"
   ]
  },
  {
   "cell_type": "code",
   "execution_count": 23,
   "metadata": {
    "colab": {
     "base_uri": "https://localhost:8080/"
    },
    "executionInfo": {
     "elapsed": 58157,
     "status": "ok",
     "timestamp": 1628795727292,
     "user": {
      "displayName": "Gbolahan Aina",
      "photoUrl": "https://lh3.googleusercontent.com/a-/AOh14GgwLohnVy9DIPOUXPShxvtPY1zsdv1KN1Gj74XbHA=s64",
      "userId": "04759338744272072118"
     },
     "user_tz": -60
    },
    "id": "Y97ZG03MQRr2",
    "outputId": "2e2eec29-69ac-43b7-dce6-05d0e6893edb"
   },
   "outputs": [
    {
     "name": "stdout",
     "output_type": "stream",
     "text": [
      "Wall time: 46 s\n"
     ]
    },
    {
     "data": {
      "text/plain": [
       "LogisticRegression(solver='liblinear')"
      ]
     },
     "execution_count": 23,
     "metadata": {},
     "output_type": "execute_result"
    }
   ],
   "source": [
    "%%time\n",
    "from sklearn.linear_model import LogisticRegression\n",
    "model = LogisticRegression(solver='liblinear')\n",
    "model.fit(x_train,y_train.values.ravel())"
   ]
  },
  {
   "cell_type": "code",
   "execution_count": 24,
   "metadata": {
    "colab": {
     "base_uri": "https://localhost:8080/"
    },
    "executionInfo": {
     "elapsed": 27,
     "status": "ok",
     "timestamp": 1628795727293,
     "user": {
      "displayName": "Gbolahan Aina",
      "photoUrl": "https://lh3.googleusercontent.com/a-/AOh14GgwLohnVy9DIPOUXPShxvtPY1zsdv1KN1Gj74XbHA=s64",
      "userId": "04759338744272072118"
     },
     "user_tz": -60
    },
    "id": "O-Mw8rL7ayCj",
    "outputId": "da0f5309-7526-4352-c5bc-785a5b667800"
   },
   "outputs": [
    {
     "name": "stdout",
     "output_type": "stream",
     "text": [
      "[[-0.013860193336123584, -0.0007919646577638865, -0.00028269033080931147, -0.004248835883584277, 0.2073806723244129, 0.0014204174902896008, 0.02435797437447584, 0.0, 0.006221155962180677, -0.0009349482957690767, 0.14107333005412473, -0.0005885815595746579, -0.02475634833179607, -0.015187440381878265, -0.044168834661641544, -0.22743821950226165, 3.0503666487236214, 0.007526327354865266, -0.0024824383934497363, -0.011987872951172186, -0.044193638735712165, -0.00039220533409056946, -0.00016460789543692154, -0.07309910266875563, 0.0003352684714158553, 0.0, -0.006761215288420565, 0.0, -0.1940414433862421, 0.1988967295843336]]\n"
     ]
    }
   ],
   "source": [
    "print(model.coef_.tolist())"
   ]
  },
  {
   "cell_type": "markdown",
   "metadata": {
    "id": "NdCs8JAVZytp"
   },
   "source": [
    "model.predict(x_train, Y_train)"
   ]
  },
  {
   "cell_type": "code",
   "execution_count": 25,
   "metadata": {
    "colab": {
     "base_uri": "https://localhost:8080/"
    },
    "executionInfo": {
     "elapsed": 21,
     "status": "ok",
     "timestamp": 1628795727294,
     "user": {
      "displayName": "Gbolahan Aina",
      "photoUrl": "https://lh3.googleusercontent.com/a-/AOh14GgwLohnVy9DIPOUXPShxvtPY1zsdv1KN1Gj74XbHA=s64",
      "userId": "04759338744272072118"
     },
     "user_tz": -60
    },
    "id": "xrOoZVhyaMZ1",
    "outputId": "11c5a969-71d8-4e1c-f1b7-b992dd7b91f5"
   },
   "outputs": [
    {
     "name": "stdout",
     "output_type": "stream",
     "text": [
      "[0.03705201]\n"
     ]
    }
   ],
   "source": [
    "print(model.intercept_)"
   ]
  },
  {
   "cell_type": "markdown",
   "metadata": {
    "id": "78uZ-FbL-WM5"
   },
   "source": [
    "## Predicting class labels for samples in x_train"
   ]
  },
  {
   "cell_type": "code",
   "execution_count": 26,
   "metadata": {
    "executionInfo": {
     "elapsed": 32,
     "status": "ok",
     "timestamp": 1628795729727,
     "user": {
      "displayName": "Gbolahan Aina",
      "photoUrl": "https://lh3.googleusercontent.com/a-/AOh14GgwLohnVy9DIPOUXPShxvtPY1zsdv1KN1Gj74XbHA=s64",
      "userId": "04759338744272072118"
     },
     "user_tz": -60
    },
    "id": "TBH2Mi8gQRr3"
   },
   "outputs": [],
   "source": [
    "train_preds = model.predict(x_train)"
   ]
  },
  {
   "cell_type": "code",
   "execution_count": 27,
   "metadata": {
    "colab": {
     "base_uri": "https://localhost:8080/"
    },
    "executionInfo": {
     "elapsed": 30,
     "status": "ok",
     "timestamp": 1628795729729,
     "user": {
      "displayName": "Gbolahan Aina",
      "photoUrl": "https://lh3.googleusercontent.com/a-/AOh14GgwLohnVy9DIPOUXPShxvtPY1zsdv1KN1Gj74XbHA=s64",
      "userId": "04759338744272072118"
     },
     "user_tz": -60
    },
    "id": "XiSgmrDFbA1Q",
    "outputId": "482dc214-c92f-4df1-f9e5-33e7928ebc20"
   },
   "outputs": [
    {
     "data": {
      "text/plain": [
       "array([0, 1, 1, ..., 0, 0, 1], dtype=int64)"
      ]
     },
     "execution_count": 27,
     "metadata": {},
     "output_type": "execute_result"
    }
   ],
   "source": [
    "train_preds"
   ]
  },
  {
   "cell_type": "code",
   "execution_count": 28,
   "metadata": {},
   "outputs": [],
   "source": [
    "val_preds = model.predict(x_val)"
   ]
  },
  {
   "cell_type": "code",
   "execution_count": 29,
   "metadata": {},
   "outputs": [
    {
     "data": {
      "text/plain": [
       "array([0, 1, 1, ..., 0, 1, 0], dtype=int64)"
      ]
     },
     "execution_count": 29,
     "metadata": {},
     "output_type": "execute_result"
    }
   ],
   "source": [
    "val_preds"
   ]
  },
  {
   "cell_type": "markdown",
   "metadata": {
    "id": "f6BffUWV-WM8"
   },
   "source": [
    "## Returning the mean accuracy on the given test data and labels."
   ]
  },
  {
   "cell_type": "code",
   "execution_count": 31,
   "metadata": {
    "executionInfo": {
     "elapsed": 30,
     "status": "ok",
     "timestamp": 1628795729737,
     "user": {
      "displayName": "Gbolahan Aina",
      "photoUrl": "https://lh3.googleusercontent.com/a-/AOh14GgwLohnVy9DIPOUXPShxvtPY1zsdv1KN1Gj74XbHA=s64",
      "userId": "04759338744272072118"
     },
     "user_tz": -60
    },
    "id": "FonkgOiubVNj"
   },
   "outputs": [],
   "source": [
    "from sklearn.metrics import accuracy_score"
   ]
  },
  {
   "cell_type": "code",
   "execution_count": 32,
   "metadata": {
    "executionInfo": {
     "elapsed": 32,
     "status": "ok",
     "timestamp": 1628795729740,
     "user": {
      "displayName": "Gbolahan Aina",
      "photoUrl": "https://lh3.googleusercontent.com/a-/AOh14GgwLohnVy9DIPOUXPShxvtPY1zsdv1KN1Gj74XbHA=s64",
      "userId": "04759338744272072118"
     },
     "user_tz": -60
    },
    "id": "pfoGFX7xcE4m"
   },
   "outputs": [
    {
     "data": {
      "text/plain": [
       "0.7867500648100652"
      ]
     },
     "execution_count": 32,
     "metadata": {},
     "output_type": "execute_result"
    }
   ],
   "source": [
    "accuracy_score( y_val ,  val_preds)"
   ]
  },
  {
   "cell_type": "code",
   "execution_count": 33,
   "metadata": {
    "colab": {
     "base_uri": "https://localhost:8080/"
    },
    "executionInfo": {
     "elapsed": 35,
     "status": "ok",
     "timestamp": 1628795729743,
     "user": {
      "displayName": "Gbolahan Aina",
      "photoUrl": "https://lh3.googleusercontent.com/a-/AOh14GgwLohnVy9DIPOUXPShxvtPY1zsdv1KN1Gj74XbHA=s64",
      "userId": "04759338744272072118"
     },
     "user_tz": -60
    },
    "id": "ZwrWCOStbpjM",
    "outputId": "18063aa6-e900-4c76-be1a-427723ba90fe"
   },
   "outputs": [
    {
     "data": {
      "text/plain": [
       "0.7856913221284543"
      ]
     },
     "execution_count": 33,
     "metadata": {},
     "output_type": "execute_result"
    }
   ],
   "source": [
    "accuracy_score( y_train ,  train_preds)"
   ]
  },
  {
   "cell_type": "code",
   "execution_count": 34,
   "metadata": {
    "executionInfo": {
     "elapsed": 32,
     "status": "ok",
     "timestamp": 1628795729744,
     "user": {
      "displayName": "Gbolahan Aina",
      "photoUrl": "https://lh3.googleusercontent.com/a-/AOh14GgwLohnVy9DIPOUXPShxvtPY1zsdv1KN1Gj74XbHA=s64",
      "userId": "04759338744272072118"
     },
     "user_tz": -60
    },
    "id": "itlZ18WtG_kr"
   },
   "outputs": [],
   "source": [
    "from sklearn.metrics import confusion_matrix"
   ]
  },
  {
   "cell_type": "code",
   "execution_count": 35,
   "metadata": {
    "colab": {
     "base_uri": "https://localhost:8080/"
    },
    "executionInfo": {
     "elapsed": 538,
     "status": "ok",
     "timestamp": 1628795730252,
     "user": {
      "displayName": "Gbolahan Aina",
      "photoUrl": "https://lh3.googleusercontent.com/a-/AOh14GgwLohnVy9DIPOUXPShxvtPY1zsdv1KN1Gj74XbHA=s64",
      "userId": "04759338744272072118"
     },
     "user_tz": -60
    },
    "id": "eQsSASnNHG5l",
    "outputId": "ddf8525a-429f-45e9-e6af-b54ebc071d41"
   },
   "outputs": [
    {
     "data": {
      "text/plain": [
       "array([[0.71024679, 0.28975321],\n",
       "       [0.15943668, 0.84056332]])"
      ]
     },
     "execution_count": 35,
     "metadata": {},
     "output_type": "execute_result"
    }
   ],
   "source": [
    "confusion_matrix(y_train, train_preds, normalize='true')"
   ]
  },
  {
   "cell_type": "code",
   "execution_count": 36,
   "metadata": {
    "colab": {
     "base_uri": "https://localhost:8080/"
    },
    "executionInfo": {
     "elapsed": 7,
     "status": "ok",
     "timestamp": 1628795730252,
     "user": {
      "displayName": "Gbolahan Aina",
      "photoUrl": "https://lh3.googleusercontent.com/a-/AOh14GgwLohnVy9DIPOUXPShxvtPY1zsdv1KN1Gj74XbHA=s64",
      "userId": "04759338744272072118"
     },
     "user_tz": -60
    },
    "id": "d5uqgF3y-WM-",
    "outputId": "d02e1c7d-5342-4ec1-821f-42b9e9b3abf0"
   },
   "outputs": [
    {
     "data": {
      "text/plain": [
       "array([0, 1], dtype=int64)"
      ]
     },
     "execution_count": 36,
     "metadata": {},
     "output_type": "execute_result"
    }
   ],
   "source": [
    "model.classes_"
   ]
  },
  {
   "cell_type": "markdown",
   "metadata": {
    "id": "ONWnyRi4-WNA"
   },
   "source": [
    "## Defining a helper function"
   ]
  },
  {
   "cell_type": "code",
   "execution_count": 37,
   "metadata": {
    "executionInfo": {
     "elapsed": 6,
     "status": "ok",
     "timestamp": 1628795730253,
     "user": {
      "displayName": "Gbolahan Aina",
      "photoUrl": "https://lh3.googleusercontent.com/a-/AOh14GgwLohnVy9DIPOUXPShxvtPY1zsdv1KN1Gj74XbHA=s64",
      "userId": "04759338744272072118"
     },
     "user_tz": -60
    },
    "id": "tEnsqLpYHhxw"
   },
   "outputs": [],
   "source": [
    "def predict_and_plot(inputs, targets, name=''):\n",
    "    preds = model.predict(inputs)\n",
    "    \n",
    "    accuracy = accuracy_score(targets, preds)\n",
    "    print(\"Accuracy: {:.2f}%\".format(accuracy * 100))\n",
    "    \n",
    "    cf = confusion_matrix(targets, preds, normalize='true')\n",
    "    plt.figure()\n",
    "    sns.heatmap(cf, annot=True)\n",
    "    plt.xlabel('Prediction')\n",
    "    plt.ylabel('Target')\n",
    "    plt.title('{} Confusion Matrix'.format(name));\n",
    "    \n",
    "    return preds"
   ]
  },
  {
   "cell_type": "code",
   "execution_count": 38,
   "metadata": {
    "colab": {
     "base_uri": "https://localhost:8080/",
     "height": 451
    },
    "executionInfo": {
     "elapsed": 1362,
     "status": "ok",
     "timestamp": 1628795731610,
     "user": {
      "displayName": "Gbolahan Aina",
      "photoUrl": "https://lh3.googleusercontent.com/a-/AOh14GgwLohnVy9DIPOUXPShxvtPY1zsdv1KN1Gj74XbHA=s64",
      "userId": "04759338744272072118"
     },
     "user_tz": -60
    },
    "id": "EXXCde_hHnNU",
    "outputId": "f92dc498-de3a-44fb-ca13-b37bfc7ce343"
   },
   "outputs": [
    {
     "name": "stdout",
     "output_type": "stream",
     "text": [
      "Accuracy: 78.57%\n"
     ]
    },
    {
     "data": {
      "text/plain": [
       "array([0, 1, 1, ..., 0, 0, 1], dtype=int64)"
      ]
     },
     "execution_count": 38,
     "metadata": {},
     "output_type": "execute_result"
    },
    {
     "data": {
      "image/png": "[encoded data removed]",
      "text/plain": [
       "<Figure size 720x432 with 2 Axes>"
      ]
     },
     "metadata": {
      "needs_background": "light"
     },
     "output_type": "display_data"
    }
   ],
   "source": [
    "train_predict = predict_and_plot(x_train, y_train, 'Training')\n",
    "train_predict"
   ]
  },
  {
   "cell_type": "code",
   "execution_count": 39,
   "metadata": {
    "colab": {
     "base_uri": "https://localhost:8080/",
     "height": 433
    },
    "executionInfo": {
     "elapsed": 691,
     "status": "ok",
     "timestamp": 1628795732287,
     "user": {
      "displayName": "Gbolahan Aina",
      "photoUrl": "https://lh3.googleusercontent.com/a-/AOh14GgwLohnVy9DIPOUXPShxvtPY1zsdv1KN1Gj74XbHA=s64",
      "userId": "04759338744272072118"
     },
     "user_tz": -60
    },
    "id": "udl3-gjoMX8p",
    "outputId": "6c12c52e-2eec-40d0-fad9-e00e509fb40a"
   },
   "outputs": [
    {
     "name": "stdout",
     "output_type": "stream",
     "text": [
      "Accuracy: 78.68%\n"
     ]
    },
    {
     "data": {
      "image/png": "[encoded data removed]",
      "text/plain": [
       "<Figure size 720x432 with 2 Axes>"
      ]
     },
     "metadata": {
      "needs_background": "light"
     },
     "output_type": "display_data"
    }
   ],
   "source": [
    "val_predict = predict_and_plot(x_val, y_val ,'Validation')"
   ]
  },
  {
   "cell_type": "markdown",
   "metadata": {
    "id": "WC5LXkcs-WNC"
   },
   "source": [
    "## To check if the model is better than a model with random guesses and a model that has all inputs a no\n"
   ]
  },
  {
   "cell_type": "code",
   "execution_count": 40,
   "metadata": {
    "executionInfo": {
     "elapsed": 11,
     "status": "ok",
     "timestamp": 1628795733629,
     "user": {
      "displayName": "Gbolahan Aina",
      "photoUrl": "https://lh3.googleusercontent.com/a-/AOh14GgwLohnVy9DIPOUXPShxvtPY1zsdv1KN1Gj74XbHA=s64",
      "userId": "04759338744272072118"
     },
     "user_tz": -60
    },
    "id": "6jVhT_jfHGSC"
   },
   "outputs": [],
   "source": [
    "def random_guess(inputs):\n",
    "    return np.random.choice([1 , 0 ], len(inputs))"
   ]
  },
  {
   "cell_type": "code",
   "execution_count": 41,
   "metadata": {
    "executionInfo": {
     "elapsed": 11,
     "status": "ok",
     "timestamp": 1628795733632,
     "user": {
      "displayName": "Gbolahan Aina",
      "photoUrl": "https://lh3.googleusercontent.com/a-/AOh14GgwLohnVy9DIPOUXPShxvtPY1zsdv1KN1Gj74XbHA=s64",
      "userId": "04759338744272072118"
     },
     "user_tz": -60
    },
    "id": "IH0Q6KUzHEgy"
   },
   "outputs": [],
   "source": [
    "def all_no(inputs):\n",
    "    return np.full(len(inputs), 0 )"
   ]
  },
  {
   "cell_type": "code",
   "execution_count": 42,
   "metadata": {
    "executionInfo": {
     "elapsed": 647,
     "status": "ok",
     "timestamp": 1628795734269,
     "user": {
      "displayName": "Gbolahan Aina",
      "photoUrl": "https://lh3.googleusercontent.com/a-/AOh14GgwLohnVy9DIPOUXPShxvtPY1zsdv1KN1Gj74XbHA=s64",
      "userId": "04759338744272072118"
     },
     "user_tz": -60
    },
    "id": "zmK_J_xjOYP6"
   },
   "outputs": [],
   "source": [
    "random_guess = accuracy_score(train_preds, random_guess(y_train))"
   ]
  },
  {
   "cell_type": "code",
   "execution_count": 43,
   "metadata": {
    "executionInfo": {
     "elapsed": 16,
     "status": "ok",
     "timestamp": 1628795734269,
     "user": {
      "displayName": "Gbolahan Aina",
      "photoUrl": "https://lh3.googleusercontent.com/a-/AOh14GgwLohnVy9DIPOUXPShxvtPY1zsdv1KN1Gj74XbHA=s64",
      "userId": "04759338744272072118"
     },
     "user_tz": -60
    },
    "id": "fcR1bNmOOX9Q"
   },
   "outputs": [],
   "source": [
    "all_no = accuracy_score(train_preds, all_no(y_train))"
   ]
  },
  {
   "cell_type": "code",
   "execution_count": 44,
   "metadata": {
    "colab": {
     "base_uri": "https://localhost:8080/"
    },
    "executionInfo": {
     "elapsed": 15,
     "status": "ok",
     "timestamp": 1628795734270,
     "user": {
      "displayName": "Gbolahan Aina",
      "photoUrl": "https://lh3.googleusercontent.com/a-/AOh14GgwLohnVy9DIPOUXPShxvtPY1zsdv1KN1Gj74XbHA=s64",
      "userId": "04759338744272072118"
     },
     "user_tz": -60
    },
    "id": "oY2MdFUu-WND",
    "outputId": "212eb4d7-9d4d-454e-8f43-356b3ab90556"
   },
   "outputs": [
    {
     "name": "stdout",
     "output_type": "stream",
     "text": [
      "Model with all no is 39.13646786279933%:\n",
      "Model with random no is 49.95224924946221%:\n"
     ]
    }
   ],
   "source": [
    "print('Model with all no is {}%:'.format(all_no * 100))\n",
    "print('Model with random no is {}%:'.format(random_guess * 100))\n"
   ]
  },
  {
   "cell_type": "markdown",
   "metadata": {
    "id": "zUUowOeZOX5q"
   },
   "source": [
    "##  My random model achieves an accuracy of 78.68% while the model with random no achieves 50% and \"always No\" model achieves an accuracy of 37%.\n",
    "\n",
    "### My model is better than a \"dumb\" or \"random\" model!\n"
   ]
  },
  {
   "cell_type": "markdown",
   "metadata": {
    "id": "E7rQpJBX-WNE"
   },
   "source": [
    "## Making Predictions with Random Forest classifier\n",
    "I'll use the RandomForestClassifier class from sklearn.ensemble.\n",
    "\n"
   ]
  },
  {
   "cell_type": "code",
   "execution_count": 45,
   "metadata": {
    "executionInfo": {
     "elapsed": 557,
     "status": "ok",
     "timestamp": 1628795736011,
     "user": {
      "displayName": "Gbolahan Aina",
      "photoUrl": "https://lh3.googleusercontent.com/a-/AOh14GgwLohnVy9DIPOUXPShxvtPY1zsdv1KN1Gj74XbHA=s64",
      "userId": "04759338744272072118"
     },
     "user_tz": -60
    },
    "id": "JxRE1Rr8-WNE"
   },
   "outputs": [],
   "source": [
    "from sklearn.ensemble import RandomForestClassifier"
   ]
  },
  {
   "cell_type": "code",
   "execution_count": 46,
   "metadata": {
    "executionInfo": {
     "elapsed": 18,
     "status": "ok",
     "timestamp": 1628795736013,
     "user": {
      "displayName": "Gbolahan Aina",
      "photoUrl": "https://lh3.googleusercontent.com/a-/AOh14GgwLohnVy9DIPOUXPShxvtPY1zsdv1KN1Gj74XbHA=s64",
      "userId": "04759338744272072118"
     },
     "user_tz": -60
    },
    "id": "xecRD3Qa-WNF"
   },
   "outputs": [],
   "source": [
    "model = RandomForestClassifier(n_jobs=-1, random_state=42)"
   ]
  },
  {
   "cell_type": "code",
   "execution_count": 47,
   "metadata": {
    "colab": {
     "base_uri": "https://localhost:8080/"
    },
    "executionInfo": {
     "elapsed": 135529,
     "status": "ok",
     "timestamp": 1628795871527,
     "user": {
      "displayName": "Gbolahan Aina",
      "photoUrl": "https://lh3.googleusercontent.com/a-/AOh14GgwLohnVy9DIPOUXPShxvtPY1zsdv1KN1Gj74XbHA=s64",
      "userId": "04759338744272072118"
     },
     "user_tz": -60
    },
    "id": "2-gsu_B6-WNF",
    "outputId": "44113b73-9d20-4ff6-d9a0-6d4dcac67fb7"
   },
   "outputs": [
    {
     "name": "stdout",
     "output_type": "stream",
     "text": [
      "Wall time: 1min 40s\n"
     ]
    },
    {
     "data": {
      "text/plain": [
       "RandomForestClassifier(n_jobs=-1, random_state=42)"
      ]
     },
     "execution_count": 47,
     "metadata": {},
     "output_type": "execute_result"
    }
   ],
   "source": [
    "%%time\n",
    "model.fit(x_train, y_train.values.ravel())\n"
   ]
  },
  {
   "cell_type": "code",
   "execution_count": null,
   "metadata": {
    "colab": {
     "base_uri": "https://localhost:8080/",
     "height": 88
    },
    "executionInfo": {
     "elapsed": 1992,
     "status": "ok",
     "timestamp": 1628795873498,
     "user": {
      "displayName": "Gbolahan Aina",
      "photoUrl": "https://lh3.googleusercontent.com/a-/AOh14GgwLohnVy9DIPOUXPShxvtPY1zsdv1KN1Gj74XbHA=s64",
      "userId": "04759338744272072118"
     },
     "user_tz": -60
    },
    "id": "plgluQrM-WNH",
    "outputId": "0585f447-194e-4b10-9375-0c34736d1ecb"
   },
   "outputs": [],
   "source": []
  },
  {
   "cell_type": "code",
   "execution_count": 48,
   "metadata": {
    "colab": {
     "base_uri": "https://localhost:8080/"
    },
    "executionInfo": {
     "elapsed": 9639,
     "status": "ok",
     "timestamp": 1628795883132,
     "user": {
      "displayName": "Gbolahan Aina",
      "photoUrl": "https://lh3.googleusercontent.com/a-/AOh14GgwLohnVy9DIPOUXPShxvtPY1zsdv1KN1Gj74XbHA=s64",
      "userId": "04759338744272072118"
     },
     "user_tz": -60
    },
    "id": "1Z6-X2hc-WNI",
    "outputId": "871d8c04-d8b5-4f67-ee61-0c5f0a91a0d4"
   },
   "outputs": [
    {
     "data": {
      "text/plain": [
       "0.9999976361014585"
      ]
     },
     "execution_count": 48,
     "metadata": {},
     "output_type": "execute_result"
    }
   ],
   "source": [
    "dt = model.score(x_train, y_train)\n",
    "dt"
   ]
  },
  {
   "cell_type": "code",
   "execution_count": 49,
   "metadata": {
    "colab": {
     "base_uri": "https://localhost:8080/"
    },
    "executionInfo": {
     "elapsed": 4419,
     "status": "ok",
     "timestamp": 1628795887535,
     "user": {
      "displayName": "Gbolahan Aina",
      "photoUrl": "https://lh3.googleusercontent.com/a-/AOh14GgwLohnVy9DIPOUXPShxvtPY1zsdv1KN1Gj74XbHA=s64",
      "userId": "04759338744272072118"
     },
     "user_tz": -60
    },
    "id": "u-pMiyPG-WNI",
    "outputId": "c1635ce5-cd3f-4d70-cdd8-05ab89bd5747"
   },
   "outputs": [
    {
     "data": {
      "text/plain": [
       "0.99302257596567"
      ]
     },
     "execution_count": 49,
     "metadata": {},
     "output_type": "execute_result"
    }
   ],
   "source": [
    "model.score(x_val, y_val)"
   ]
  },
  {
   "cell_type": "code",
   "execution_count": 50,
   "metadata": {
    "colab": {
     "base_uri": "https://localhost:8080/"
    },
    "executionInfo": {
     "elapsed": 9490,
     "status": "ok",
     "timestamp": 1628795897010,
     "user": {
      "displayName": "Gbolahan Aina",
      "photoUrl": "https://lh3.googleusercontent.com/a-/AOh14GgwLohnVy9DIPOUXPShxvtPY1zsdv1KN1Gj74XbHA=s64",
      "userId": "04759338744272072118"
     },
     "user_tz": -60
    },
    "id": "qPrAKkOP-WNI",
    "outputId": "c57496c4-ef87-4785-9c99-dda9771c0ce4"
   },
   "outputs": [
    {
     "data": {
      "text/plain": [
       "array([[0.  , 1.  ],\n",
       "       [0.01, 0.99],\n",
       "       [0.  , 1.  ],\n",
       "       ...,\n",
       "       [1.  , 0.  ],\n",
       "       [0.95, 0.05],\n",
       "       [0.01, 0.99]])"
      ]
     },
     "execution_count": 50,
     "metadata": {},
     "output_type": "execute_result"
    }
   ],
   "source": [
    "train_probs = model.predict_proba(x_train)\n",
    "train_probs"
   ]
  },
  {
   "cell_type": "code",
   "execution_count": 51,
   "metadata": {
    "colab": {
     "base_uri": "https://localhost:8080/"
    },
    "executionInfo": {
     "elapsed": 3787,
     "status": "ok",
     "timestamp": 1628795900783,
     "user": {
      "displayName": "Gbolahan Aina",
      "photoUrl": "https://lh3.googleusercontent.com/a-/AOh14GgwLohnVy9DIPOUXPShxvtPY1zsdv1KN1Gj74XbHA=s64",
      "userId": "04759338744272072118"
     },
     "user_tz": -60
    },
    "id": "TpJdpBEY-WNJ",
    "outputId": "53ed492f-4baf-4476-c773-2b7b54fc67d3"
   },
   "outputs": [
    {
     "data": {
      "text/plain": [
       "array([0, 1, 1, ..., 0, 1, 0], dtype=int64)"
      ]
     },
     "execution_count": 51,
     "metadata": {},
     "output_type": "execute_result"
    }
   ],
   "source": [
    "prob = model.predict(x_val)\n",
    "prob"
   ]
  },
  {
   "cell_type": "code",
   "execution_count": 52,
   "metadata": {
    "executionInfo": {
     "elapsed": 20,
     "status": "ok",
     "timestamp": 1628795900784,
     "user": {
      "displayName": "Gbolahan Aina",
      "photoUrl": "https://lh3.googleusercontent.com/a-/AOh14GgwLohnVy9DIPOUXPShxvtPY1zsdv1KN1Gj74XbHA=s64",
      "userId": "04759338744272072118"
     },
     "user_tz": -60
    },
    "id": "NdnKDgR1-WNK"
   },
   "outputs": [],
   "source": [
    "from sklearn.tree import plot_tree, export_text"
   ]
  },
  {
   "cell_type": "code",
   "execution_count": 53,
   "metadata": {
    "colab": {
     "base_uri": "https://localhost:8080/"
    },
    "executionInfo": {
     "elapsed": 19,
     "status": "ok",
     "timestamp": 1628795900784,
     "user": {
      "displayName": "Gbolahan Aina",
      "photoUrl": "https://lh3.googleusercontent.com/a-/AOh14GgwLohnVy9DIPOUXPShxvtPY1zsdv1KN1Gj74XbHA=s64",
      "userId": "04759338744272072118"
     },
     "user_tz": -60
    },
    "id": "F5J-HhLu-WNK",
    "outputId": "cc835393-8353-4287-ddae-4d889256f0e8"
   },
   "outputs": [
    {
     "data": {
      "text/plain": [
       "DecisionTreeClassifier(max_features='auto', random_state=1608637542)"
      ]
     },
     "execution_count": 53,
     "metadata": {},
     "output_type": "execute_result"
    }
   ],
   "source": [
    "model.estimators_[0]"
   ]
  },
  {
   "cell_type": "code",
   "execution_count": 54,
   "metadata": {
    "colab": {
     "base_uri": "https://localhost:8080/"
    },
    "executionInfo": {
     "elapsed": 18,
     "status": "ok",
     "timestamp": 1628795900785,
     "user": {
      "displayName": "Gbolahan Aina",
      "photoUrl": "https://lh3.googleusercontent.com/a-/AOh14GgwLohnVy9DIPOUXPShxvtPY1zsdv1KN1Gj74XbHA=s64",
      "userId": "04759338744272072118"
     },
     "user_tz": -60
    },
    "id": "yzcX5Tdr-WNK",
    "outputId": "ba86ab0d-0a76-46d4-d363-5be9f754db55"
   },
   "outputs": [
    {
     "data": {
      "text/plain": [
       "Index(['P1', 'P2', 'P3', 'P4', 'P5', 'P6', 'P7', 'P8', 'E1', 'E2', 'E3', 'E4',\n",
       "       'E5', 'E6', 'E7', 'E8', 'E9', 'E10', 'E11', 'V1', 'V2', 'V3', 'V4',\n",
       "       'V5', 'V6', 'V7', 'V8', 'V9', 'V10', 'V11'],\n",
       "      dtype='object')"
      ]
     },
     "execution_count": 54,
     "metadata": {},
     "output_type": "execute_result"
    }
   ],
   "source": [
    "x_train.columns"
   ]
  },
  {
   "cell_type": "code",
   "execution_count": 55,
   "metadata": {
    "colab": {
     "base_uri": "https://localhost:8080/",
     "height": 353
    },
    "executionInfo": {
     "elapsed": 2554,
     "status": "ok",
     "timestamp": 1628795903323,
     "user": {
      "displayName": "Gbolahan Aina",
      "photoUrl": "https://lh3.googleusercontent.com/a-/AOh14GgwLohnVy9DIPOUXPShxvtPY1zsdv1KN1Gj74XbHA=s64",
      "userId": "04759338744272072118"
     },
     "user_tz": -60
    },
    "id": "7zgRFMbQ-WNK",
    "outputId": "836e1009-0091-4415-e668-60768ed1d143"
   },
   "outputs": [
    {
     "data": {
      "image/png": "[encoded data removed]",
      "text/plain": [
       "<Figure size 5760x1440 with 1 Axes>"
      ]
     },
     "metadata": {
      "needs_background": "light"
     },
     "output_type": "display_data"
    }
   ],
   "source": [
    "plt.figure(figsize=(80,20))\n",
    "plot_tree(model.estimators_[0], max_depth=2, feature_names=x_train.columns, filled=True, rounded=True);"
   ]
  },
  {
   "cell_type": "code",
   "execution_count": 56,
   "metadata": {
    "colab": {
     "base_uri": "https://localhost:8080/",
     "height": 353
    },
    "executionInfo": {
     "elapsed": 1635,
     "status": "ok",
     "timestamp": 1628795904934,
     "user": {
      "displayName": "Gbolahan Aina",
      "photoUrl": "https://lh3.googleusercontent.com/a-/AOh14GgwLohnVy9DIPOUXPShxvtPY1zsdv1KN1Gj74XbHA=s64",
      "userId": "04759338744272072118"
     },
     "user_tz": -60
    },
    "id": "TtH2xC4c-WNL",
    "outputId": "36bb8d08-b167-4a69-d16e-78bb5559ad2a"
   },
   "outputs": [
    {
     "data": {
      "image/png": "[encoded data removed]",
      "text/plain": [
       "<Figure size 5760x1440 with 1 Axes>"
      ]
     },
     "metadata": {
      "needs_background": "light"
     },
     "output_type": "display_data"
    }
   ],
   "source": [
    "plt.figure(figsize=(80,20))\n",
    "plot_tree(model.estimators_[20], max_depth=2, feature_names=x_train.columns, filled=True, rounded=True);"
   ]
  },
  {
   "cell_type": "code",
   "execution_count": 57,
   "metadata": {
    "executionInfo": {
     "elapsed": 719,
     "status": "ok",
     "timestamp": 1628795905646,
     "user": {
      "displayName": "Gbolahan Aina",
      "photoUrl": "https://lh3.googleusercontent.com/a-/AOh14GgwLohnVy9DIPOUXPShxvtPY1zsdv1KN1Gj74XbHA=s64",
      "userId": "04759338744272072118"
     },
     "user_tz": -60
    },
    "id": "JhyTwjUF-WNL"
   },
   "outputs": [],
   "source": [
    "importance_df = pd.DataFrame({\n",
    "    'feature': x_train.columns,\n",
    "    'importance': model.feature_importances_\n",
    "}).sort_values('importance', ascending=False)"
   ]
  },
  {
   "cell_type": "code",
   "execution_count": 58,
   "metadata": {
    "colab": {
     "base_uri": "https://localhost:8080/",
     "height": 973
    },
    "executionInfo": {
     "elapsed": 24,
     "status": "ok",
     "timestamp": 1628795905648,
     "user": {
      "displayName": "Gbolahan Aina",
      "photoUrl": "https://lh3.googleusercontent.com/a-/AOh14GgwLohnVy9DIPOUXPShxvtPY1zsdv1KN1Gj74XbHA=s64",
      "userId": "04759338744272072118"
     },
     "user_tz": -60
    },
    "id": "cmKOxsg7-WNL",
    "outputId": "aa1194af-6f26-4ed9-93c2-c53f2607e49f"
   },
   "outputs": [
    {
     "data": {
      "text/html": [
       "<div>\n",
       "<style scoped>\n",
       "    .dataframe tbody tr th:only-of-type {\n",
       "        vertical-align: middle;\n",
       "    }\n",
       "\n",
       "    .dataframe tbody tr th {\n",
       "        vertical-align: top;\n",
       "    }\n",
       "\n",
       "    .dataframe thead th {\n",
       "        text-align: right;\n",
       "    }\n",
       "</style>\n",
       "<table border=\"1\" class=\"dataframe\">\n",
       "  <thead>\n",
       "    <tr style=\"text-align: right;\">\n",
       "      <th></th>\n",
       "      <th>feature</th>\n",
       "      <th>importance</th>\n",
       "    </tr>\n",
       "  </thead>\n",
       "  <tbody>\n",
       "    <tr>\n",
       "      <th>29</th>\n",
       "      <td>V11</td>\n",
       "      <td>0.149978</td>\n",
       "    </tr>\n",
       "    <tr>\n",
       "      <th>17</th>\n",
       "      <td>E10</td>\n",
       "      <td>0.098233</td>\n",
       "    </tr>\n",
       "    <tr>\n",
       "      <th>15</th>\n",
       "      <td>E8</td>\n",
       "      <td>0.065003</td>\n",
       "    </tr>\n",
       "    <tr>\n",
       "      <th>19</th>\n",
       "      <td>V1</td>\n",
       "      <td>0.060373</td>\n",
       "    </tr>\n",
       "    <tr>\n",
       "      <th>14</th>\n",
       "      <td>E7</td>\n",
       "      <td>0.059381</td>\n",
       "    </tr>\n",
       "    <tr>\n",
       "      <th>6</th>\n",
       "      <td>P7</td>\n",
       "      <td>0.057648</td>\n",
       "    </tr>\n",
       "    <tr>\n",
       "      <th>5</th>\n",
       "      <td>P6</td>\n",
       "      <td>0.055761</td>\n",
       "    </tr>\n",
       "    <tr>\n",
       "      <th>16</th>\n",
       "      <td>E9</td>\n",
       "      <td>0.055153</td>\n",
       "    </tr>\n",
       "    <tr>\n",
       "      <th>13</th>\n",
       "      <td>E6</td>\n",
       "      <td>0.054694</td>\n",
       "    </tr>\n",
       "    <tr>\n",
       "      <th>4</th>\n",
       "      <td>P5</td>\n",
       "      <td>0.045992</td>\n",
       "    </tr>\n",
       "    <tr>\n",
       "      <th>24</th>\n",
       "      <td>V6</td>\n",
       "      <td>0.042779</td>\n",
       "    </tr>\n",
       "    <tr>\n",
       "      <th>12</th>\n",
       "      <td>E5</td>\n",
       "      <td>0.036384</td>\n",
       "    </tr>\n",
       "    <tr>\n",
       "      <th>0</th>\n",
       "      <td>P1</td>\n",
       "      <td>0.028528</td>\n",
       "    </tr>\n",
       "    <tr>\n",
       "      <th>22</th>\n",
       "      <td>V4</td>\n",
       "      <td>0.024502</td>\n",
       "    </tr>\n",
       "    <tr>\n",
       "      <th>9</th>\n",
       "      <td>E2</td>\n",
       "      <td>0.022453</td>\n",
       "    </tr>\n",
       "    <tr>\n",
       "      <th>28</th>\n",
       "      <td>V10</td>\n",
       "      <td>0.021662</td>\n",
       "    </tr>\n",
       "    <tr>\n",
       "      <th>26</th>\n",
       "      <td>V8</td>\n",
       "      <td>0.019474</td>\n",
       "    </tr>\n",
       "    <tr>\n",
       "      <th>20</th>\n",
       "      <td>V2</td>\n",
       "      <td>0.018421</td>\n",
       "    </tr>\n",
       "    <tr>\n",
       "      <th>11</th>\n",
       "      <td>E4</td>\n",
       "      <td>0.015986</td>\n",
       "    </tr>\n",
       "    <tr>\n",
       "      <th>8</th>\n",
       "      <td>E1</td>\n",
       "      <td>0.013909</td>\n",
       "    </tr>\n",
       "    <tr>\n",
       "      <th>21</th>\n",
       "      <td>V3</td>\n",
       "      <td>0.012399</td>\n",
       "    </tr>\n",
       "    <tr>\n",
       "      <th>3</th>\n",
       "      <td>P4</td>\n",
       "      <td>0.011624</td>\n",
       "    </tr>\n",
       "    <tr>\n",
       "      <th>2</th>\n",
       "      <td>P3</td>\n",
       "      <td>0.011606</td>\n",
       "    </tr>\n",
       "    <tr>\n",
       "      <th>1</th>\n",
       "      <td>P2</td>\n",
       "      <td>0.005507</td>\n",
       "    </tr>\n",
       "    <tr>\n",
       "      <th>10</th>\n",
       "      <td>E3</td>\n",
       "      <td>0.004611</td>\n",
       "    </tr>\n",
       "    <tr>\n",
       "      <th>23</th>\n",
       "      <td>V5</td>\n",
       "      <td>0.003978</td>\n",
       "    </tr>\n",
       "    <tr>\n",
       "      <th>18</th>\n",
       "      <td>E11</td>\n",
       "      <td>0.003961</td>\n",
       "    </tr>\n",
       "    <tr>\n",
       "      <th>7</th>\n",
       "      <td>P8</td>\n",
       "      <td>0.000000</td>\n",
       "    </tr>\n",
       "    <tr>\n",
       "      <th>25</th>\n",
       "      <td>V7</td>\n",
       "      <td>0.000000</td>\n",
       "    </tr>\n",
       "    <tr>\n",
       "      <th>27</th>\n",
       "      <td>V9</td>\n",
       "      <td>0.000000</td>\n",
       "    </tr>\n",
       "  </tbody>\n",
       "</table>\n",
       "</div>"
      ],
      "text/plain": [
       "   feature  importance\n",
       "29     V11    0.149978\n",
       "17     E10    0.098233\n",
       "15      E8    0.065003\n",
       "19      V1    0.060373\n",
       "14      E7    0.059381\n",
       "6       P7    0.057648\n",
       "5       P6    0.055761\n",
       "16      E9    0.055153\n",
       "13      E6    0.054694\n",
       "4       P5    0.045992\n",
       "24      V6    0.042779\n",
       "12      E5    0.036384\n",
       "0       P1    0.028528\n",
       "22      V4    0.024502\n",
       "9       E2    0.022453\n",
       "28     V10    0.021662\n",
       "26      V8    0.019474\n",
       "20      V2    0.018421\n",
       "11      E4    0.015986\n",
       "8       E1    0.013909\n",
       "21      V3    0.012399\n",
       "3       P4    0.011624\n",
       "2       P3    0.011606\n",
       "1       P2    0.005507\n",
       "10      E3    0.004611\n",
       "23      V5    0.003978\n",
       "18     E11    0.003961\n",
       "7       P8    0.000000\n",
       "25      V7    0.000000\n",
       "27      V9    0.000000"
      ]
     },
     "execution_count": 58,
     "metadata": {},
     "output_type": "execute_result"
    }
   ],
   "source": [
    "importance_df"
   ]
  },
  {
   "cell_type": "code",
   "execution_count": 59,
   "metadata": {
    "colab": {
     "base_uri": "https://localhost:8080/",
     "height": 416
    },
    "executionInfo": {
     "elapsed": 20,
     "status": "ok",
     "timestamp": 1628795905649,
     "user": {
      "displayName": "Gbolahan Aina",
      "photoUrl": "https://lh3.googleusercontent.com/a-/AOh14GgwLohnVy9DIPOUXPShxvtPY1zsdv1KN1Gj74XbHA=s64",
      "userId": "04759338744272072118"
     },
     "user_tz": -60
    },
    "id": "aTf9aiF6-WNL",
    "outputId": "a615e98e-7638-4772-95e9-04dead03ac2d"
   },
   "outputs": [
    {
     "data": {
      "image/png": "[encoded data removed]",
      "text/plain": [
       "<Figure size 720x432 with 1 Axes>"
      ]
     },
     "metadata": {
      "needs_background": "light"
     },
     "output_type": "display_data"
    }
   ],
   "source": [
    "plt.title('Feature Importance')\n",
    "sns.barplot(data=importance_df.head(10), x='importance', y='feature');"
   ]
  },
  {
   "cell_type": "markdown",
   "metadata": {
    "id": "UETqrDX0-WNL"
   },
   "source": [
    "## Hyperparameter Tuning with Random Forests\n",
    "\n",
    "Just like decision trees, random forests also have several hyperparameters. In fact many of these hyperparameters are applied to the underlying decision trees. \n",
    "\n",
    "Let's study some the hyperparameters for random forests. You can learn more about them here: https://scikit-learn.org/stable/modules/generated/sklearn.ensemble.RandomForestClassifier.html"
   ]
  },
  {
   "cell_type": "markdown",
   "metadata": {
    "id": "qacnfzuC-WNL"
   },
   "source": [
    "Let's create a base model with which we can compare models with tuned hyperparameters.\n"
   ]
  },
  {
   "cell_type": "code",
   "execution_count": 60,
   "metadata": {
    "executionInfo": {
     "elapsed": 9,
     "status": "ok",
     "timestamp": 1628795906576,
     "user": {
      "displayName": "Gbolahan Aina",
      "photoUrl": "https://lh3.googleusercontent.com/a-/AOh14GgwLohnVy9DIPOUXPShxvtPY1zsdv1KN1Gj74XbHA=s64",
      "userId": "04759338744272072118"
     },
     "user_tz": -60
    },
    "id": "nhRIX1AR-WNM"
   },
   "outputs": [],
   "source": [
    "model_ = RandomForestClassifier(random_state=42, n_jobs=-1)"
   ]
  },
  {
   "cell_type": "code",
   "execution_count": 61,
   "metadata": {
    "executionInfo": {
     "elapsed": 127304,
     "status": "ok",
     "timestamp": 1628796033872,
     "user": {
      "displayName": "Gbolahan Aina",
      "photoUrl": "https://lh3.googleusercontent.com/a-/AOh14GgwLohnVy9DIPOUXPShxvtPY1zsdv1KN1Gj74XbHA=s64",
      "userId": "04759338744272072118"
     },
     "user_tz": -60
    },
    "id": "0HNtHsSCAEPs"
   },
   "outputs": [],
   "source": [
    "base_model = model_.fit(x_train, y_train.values.ravel())"
   ]
  },
  {
   "cell_type": "code",
   "execution_count": 62,
   "metadata": {
    "executionInfo": {
     "elapsed": 13638,
     "status": "ok",
     "timestamp": 1628796047499,
     "user": {
      "displayName": "Gbolahan Aina",
      "photoUrl": "https://lh3.googleusercontent.com/a-/AOh14GgwLohnVy9DIPOUXPShxvtPY1zsdv1KN1Gj74XbHA=s64",
      "userId": "04759338744272072118"
     },
     "user_tz": -60
    },
    "id": "rPYpnGnB-WNM"
   },
   "outputs": [],
   "source": [
    "base_train_acc = base_model.score(x_train, y_train)\n",
    "base_val_acc = base_model.score(x_val, y_val)"
   ]
  },
  {
   "cell_type": "code",
   "execution_count": 63,
   "metadata": {
    "colab": {
     "base_uri": "https://localhost:8080/"
    },
    "executionInfo": {
     "elapsed": 29,
     "status": "ok",
     "timestamp": 1628796047500,
     "user": {
      "displayName": "Gbolahan Aina",
      "photoUrl": "https://lh3.googleusercontent.com/a-/AOh14GgwLohnVy9DIPOUXPShxvtPY1zsdv1KN1Gj74XbHA=s64",
      "userId": "04759338744272072118"
     },
     "user_tz": -60
    },
    "id": "-pGj6N8o-WNN",
    "outputId": "a5f86c78-54b3-46a1-c4a0-ab2691082109"
   },
   "outputs": [
    {
     "data": {
      "text/plain": [
       "(0.9999976361014585, 0.99302257596567)"
      ]
     },
     "execution_count": 63,
     "metadata": {},
     "output_type": "execute_result"
    }
   ],
   "source": [
    "base_accs = base_train_acc, base_val_acc\n",
    "base_accs"
   ]
  },
  {
   "cell_type": "markdown",
   "metadata": {
    "id": "D3aacF09A7Ed"
   },
   "source": [
    "### `n_estimators`\n",
    "\n",
    "This argument controls the number of decision trees in the random forest. The default value is 100. For larger datasets, it helps to have a greater number of estimators. As a general rule, try to have as few estimators as needed. \n",
    "\n",
    "\n",
    "**12 estimators**"
   ]
  },
  {
   "cell_type": "code",
   "execution_count": 64,
   "metadata": {
    "executionInfo": {
     "elapsed": 32,
     "status": "ok",
     "timestamp": 1628796051801,
     "user": {
      "displayName": "Gbolahan Aina",
      "photoUrl": "https://lh3.googleusercontent.com/a-/AOh14GgwLohnVy9DIPOUXPShxvtPY1zsdv1KN1Gj74XbHA=s64",
      "userId": "04759338744272072118"
     },
     "user_tz": -60
    },
    "id": "nxc_39ka-WNN"
   },
   "outputs": [],
   "source": [
    "model = RandomForestClassifier(random_state=42, n_jobs=-1, n_estimators=12)"
   ]
  },
  {
   "cell_type": "code",
   "execution_count": 65,
   "metadata": {
    "colab": {
     "base_uri": "https://localhost:8080/"
    },
    "executionInfo": {
     "elapsed": 14555,
     "status": "ok",
     "timestamp": 1628796066328,
     "user": {
      "displayName": "Gbolahan Aina",
      "photoUrl": "https://lh3.googleusercontent.com/a-/AOh14GgwLohnVy9DIPOUXPShxvtPY1zsdv1KN1Gj74XbHA=s64",
      "userId": "04759338744272072118"
     },
     "user_tz": -60
    },
    "id": "lXMYdxDe-WNN",
    "outputId": "0afc718f-fca0-41f7-e142-d7639fe215be"
   },
   "outputs": [
    {
     "name": "stderr",
     "output_type": "stream",
     "text": [
      "C:\\Users\\DELLXP~1\\AppData\\Local\\Temp/ipykernel_4560/940050797.py:1: DataConversionWarning: A column-vector y was passed when a 1d array was expected. Please change the shape of y to (n_samples,), for example using ravel().\n",
      "  model.fit(x_train, y_train)\n"
     ]
    },
    {
     "data": {
      "text/plain": [
       "RandomForestClassifier(n_estimators=12, n_jobs=-1, random_state=42)"
      ]
     },
     "execution_count": 65,
     "metadata": {},
     "output_type": "execute_result"
    }
   ],
   "source": [
    "model.fit(x_train, y_train)"
   ]
  },
  {
   "cell_type": "code",
   "execution_count": 66,
   "metadata": {
    "colab": {
     "base_uri": "https://localhost:8080/"
    },
    "executionInfo": {
     "elapsed": 1923,
     "status": "ok",
     "timestamp": 1628796068241,
     "user": {
      "displayName": "Gbolahan Aina",
      "photoUrl": "https://lh3.googleusercontent.com/a-/AOh14GgwLohnVy9DIPOUXPShxvtPY1zsdv1KN1Gj74XbHA=s64",
      "userId": "04759338744272072118"
     },
     "user_tz": -60
    },
    "id": "zP1zVr46-WNO",
    "outputId": "c43ddb8d-395a-4140-f2b4-6a1c1f82bdf8"
   },
   "outputs": [
    {
     "data": {
      "text/plain": [
       "(0.9998628938845945, 0.99207386692701)"
      ]
     },
     "execution_count": 66,
     "metadata": {},
     "output_type": "execute_result"
    }
   ],
   "source": [
    "model.score(x_train, y_train), model.score(x_val, y_val)"
   ]
  },
  {
   "cell_type": "code",
   "execution_count": null,
   "metadata": {
    "executionInfo": {
     "elapsed": 15,
     "status": "ok",
     "timestamp": 1628796068242,
     "user": {
      "displayName": "Gbolahan Aina",
      "photoUrl": "https://lh3.googleusercontent.com/a-/AOh14GgwLohnVy9DIPOUXPShxvtPY1zsdv1KN1Gj74XbHA=s64",
      "userId": "04759338744272072118"
     },
     "user_tz": -60
    },
    "id": "NtaEWQm4-WNP"
   },
   "outputs": [],
   "source": []
  },
  {
   "cell_type": "markdown",
   "metadata": {
    "id": "XnTRheSDBXLt"
   },
   "source": [
    "**I tried 300,200, 50 estimators and 150 seems to give the best reslt**"
   ]
  },
  {
   "cell_type": "code",
   "execution_count": 67,
   "metadata": {
    "colab": {
     "base_uri": "https://localhost:8080/"
    },
    "executionInfo": {
     "elapsed": 195532,
     "status": "ok",
     "timestamp": 1628796263762,
     "user": {
      "displayName": "Gbolahan Aina",
      "photoUrl": "https://lh3.googleusercontent.com/a-/AOh14GgwLohnVy9DIPOUXPShxvtPY1zsdv1KN1Gj74XbHA=s64",
      "userId": "04759338744272072118"
     },
     "user_tz": -60
    },
    "id": "HIP91mN9-WNP",
    "outputId": "dba47ddb-b8e3-4d1a-9260-565f522b0d23"
   },
   "outputs": [
    {
     "name": "stderr",
     "output_type": "stream",
     "text": [
      "C:\\Users\\DELLXP~1\\AppData\\Local\\Temp/ipykernel_4560/2764237981.py:2: DataConversionWarning: A column-vector y was passed when a 1d array was expected. Please change the shape of y to (n_samples,), for example using ravel().\n",
      "  model.fit(x_train, y_train)\n"
     ]
    },
    {
     "data": {
      "text/plain": [
       "RandomForestClassifier(n_estimators=150, n_jobs=-1, random_state=42)"
      ]
     },
     "execution_count": 67,
     "metadata": {},
     "output_type": "execute_result"
    }
   ],
   "source": [
    "model = RandomForestClassifier(random_state=42, n_jobs=-1, n_estimators=150)\n",
    "model.fit(x_train, y_train)"
   ]
  },
  {
   "cell_type": "code",
   "execution_count": 68,
   "metadata": {
    "colab": {
     "base_uri": "https://localhost:8080/"
    },
    "executionInfo": {
     "elapsed": 14169,
     "status": "ok",
     "timestamp": 1628796277903,
     "user": {
      "displayName": "Gbolahan Aina",
      "photoUrl": "https://lh3.googleusercontent.com/a-/AOh14GgwLohnVy9DIPOUXPShxvtPY1zsdv1KN1Gj74XbHA=s64",
      "userId": "04759338744272072118"
     },
     "user_tz": -60
    },
    "id": "_7RsH-9m-WNQ",
    "outputId": "5d0f3225-6557-4de4-abd6-289344c2de33"
   },
   "outputs": [
    {
     "data": {
      "text/plain": [
       "1.0"
      ]
     },
     "execution_count": 68,
     "metadata": {},
     "output_type": "execute_result"
    }
   ],
   "source": [
    "model.score(x_train, y_train)"
   ]
  },
  {
   "cell_type": "code",
   "execution_count": 69,
   "metadata": {
    "colab": {
     "base_uri": "https://localhost:8080/"
    },
    "executionInfo": {
     "elapsed": 5805,
     "status": "ok",
     "timestamp": 1628796283682,
     "user": {
      "displayName": "Gbolahan Aina",
      "photoUrl": "https://lh3.googleusercontent.com/a-/AOh14GgwLohnVy9DIPOUXPShxvtPY1zsdv1KN1Gj74XbHA=s64",
      "userId": "04759338744272072118"
     },
     "user_tz": -60
    },
    "id": "pvzv4pFd-WNQ",
    "outputId": "92e3616a-910d-4abd-ca0e-4a9c526bb3c7"
   },
   "outputs": [
    {
     "data": {
      "text/plain": [
       "0.9930667019674682"
      ]
     },
     "execution_count": 69,
     "metadata": {},
     "output_type": "execute_result"
    }
   ],
   "source": [
    "model.score(x_val, y_val)"
   ]
  },
  {
   "cell_type": "code",
   "execution_count": 70,
   "metadata": {
    "colab": {
     "base_uri": "https://localhost:8080/"
    },
    "executionInfo": {
     "elapsed": 28,
     "status": "ok",
     "timestamp": 1628796283682,
     "user": {
      "displayName": "Gbolahan Aina",
      "photoUrl": "https://lh3.googleusercontent.com/a-/AOh14GgwLohnVy9DIPOUXPShxvtPY1zsdv1KN1Gj74XbHA=s64",
      "userId": "04759338744272072118"
     },
     "user_tz": -60
    },
    "id": "K2jo5Stv-WNQ",
    "outputId": "7cc1a10e-1edb-470d-a943-493a34ec1888"
   },
   "outputs": [
    {
     "data": {
      "text/plain": [
       "(0.9999976361014585, 0.99302257596567)"
      ]
     },
     "execution_count": 70,
     "metadata": {},
     "output_type": "execute_result"
    }
   ],
   "source": [
    "base_accs"
   ]
  },
  {
   "cell_type": "markdown",
   "metadata": {
    "id": "jPt8PrgBCuU1"
   },
   "source": [
    "### `max_depth` and `max_leaf_nodes`\n",
    "\n",
    "These arguments are passed directly to each decision tree, and control the maximum depth and max. no leaf nodes of each tree respectively. By default, no maximum depth is specified, which is why each tree has a training accuracy of 100%. You can specify a `max_depth` to reduce overfitting.\n",
    "\n",
    "<img src=\"https://i.imgur.com/EJCrSZw.png\" width=\"480\">\n"
   ]
  },
  {
   "cell_type": "code",
   "execution_count": 71,
   "metadata": {
    "executionInfo": {
     "elapsed": 29,
     "status": "ok",
     "timestamp": 1628796286832,
     "user": {
      "displayName": "Gbolahan Aina",
      "photoUrl": "https://lh3.googleusercontent.com/a-/AOh14GgwLohnVy9DIPOUXPShxvtPY1zsdv1KN1Gj74XbHA=s64",
      "userId": "04759338744272072118"
     },
     "user_tz": -60
    },
    "id": "gEEd-PNkBvIH"
   },
   "outputs": [],
   "source": [
    "def test_params(**params):\n",
    "    model = RandomForestClassifier(random_state=42, n_jobs=-1, **params).fit(x_train, y_train.values.ravel())\n",
    "    return model.score(x_train, y_train), model.score(x_val, y_val)"
   ]
  },
  {
   "cell_type": "code",
   "execution_count": 72,
   "metadata": {
    "colab": {
     "base_uri": "https://localhost:8080/"
    },
    "executionInfo": {
     "elapsed": 59646,
     "status": "ok",
     "timestamp": 1628796346452,
     "user": {
      "displayName": "Gbolahan Aina",
      "photoUrl": "https://lh3.googleusercontent.com/a-/AOh14GgwLohnVy9DIPOUXPShxvtPY1zsdv1KN1Gj74XbHA=s64",
      "userId": "04759338744272072118"
     },
     "user_tz": -60
    },
    "id": "pHBTwuTuBvFJ",
    "outputId": "4904e653-10d9-4c4c-e530-e4062564bbaa"
   },
   "outputs": [
    {
     "data": {
      "text/plain": [
       "(0.8610713188189962, 0.8607493698255368)"
      ]
     },
     "execution_count": 72,
     "metadata": {},
     "output_type": "execute_result"
    }
   ],
   "source": [
    "test_params(max_depth=6)"
   ]
  },
  {
   "cell_type": "code",
   "execution_count": 73,
   "metadata": {
    "colab": {
     "base_uri": "https://localhost:8080/"
    },
    "executionInfo": {
     "elapsed": 134447,
     "status": "ok",
     "timestamp": 1628796480870,
     "user": {
      "displayName": "Gbolahan Aina",
      "photoUrl": "https://lh3.googleusercontent.com/a-/AOh14GgwLohnVy9DIPOUXPShxvtPY1zsdv1KN1Gj74XbHA=s64",
      "userId": "04759338744272072118"
     },
     "user_tz": -60
    },
    "id": "01_PebtQBvCQ",
    "outputId": "dcba763b-8a03-461a-f00e-d5b6e79cee5a"
   },
   "outputs": [
    {
     "data": {
      "text/plain": [
       "(0.9792591541971019, 0.9732651586605552)"
      ]
     },
     "execution_count": 73,
     "metadata": {},
     "output_type": "execute_result"
    }
   ],
   "source": [
    "test_params(max_depth=20)"
   ]
  },
  {
   "cell_type": "code",
   "execution_count": 74,
   "metadata": {
    "colab": {
     "base_uri": "https://localhost:8080/"
    },
    "executionInfo": {
     "elapsed": 35405,
     "status": "ok",
     "timestamp": 1628796516261,
     "user": {
      "displayName": "Gbolahan Aina",
      "photoUrl": "https://lh3.googleusercontent.com/a-/AOh14GgwLohnVy9DIPOUXPShxvtPY1zsdv1KN1Gj74XbHA=s64",
      "userId": "04759338744272072118"
     },
     "user_tz": -60
    },
    "id": "bGOqELwrBu_Q",
    "outputId": "a7fe90fe-99bd-43b9-ee35-dc50cdf1c583"
   },
   "outputs": [
    {
     "data": {
      "text/plain": [
       "(0.8044086707798501, 0.8043011820252731)"
      ]
     },
     "execution_count": 74,
     "metadata": {},
     "output_type": "execute_result"
    }
   ],
   "source": [
    "test_params(max_leaf_nodes=2**2)"
   ]
  },
  {
   "cell_type": "code",
   "execution_count": 75,
   "metadata": {
    "colab": {
     "base_uri": "https://localhost:8080/"
    },
    "executionInfo": {
     "elapsed": 125227,
     "status": "ok",
     "timestamp": 1628796641470,
     "user": {
      "displayName": "Gbolahan Aina",
      "photoUrl": "https://lh3.googleusercontent.com/a-/AOh14GgwLohnVy9DIPOUXPShxvtPY1zsdv1KN1Gj74XbHA=s64",
      "userId": "04759338744272072118"
     },
     "user_tz": -60
    },
    "id": "DNzuNvC7Bu8V",
    "outputId": "c23879a2-7229-4cd5-a7fb-c69d8fe17cb9"
   },
   "outputs": [
    {
     "data": {
      "text/plain": [
       "(0.9761175330354821, 0.9717483273487444)"
      ]
     },
     "execution_count": 75,
     "metadata": {},
     "output_type": "execute_result"
    }
   ],
   "source": [
    "test_params(max_leaf_nodes=2**12)\n"
   ]
  },
  {
   "cell_type": "code",
   "execution_count": 76,
   "metadata": {
    "colab": {
     "base_uri": "https://localhost:8080/"
    },
    "executionInfo": {
     "elapsed": 28,
     "status": "ok",
     "timestamp": 1628796641471,
     "user": {
      "displayName": "Gbolahan Aina",
      "photoUrl": "https://lh3.googleusercontent.com/a-/AOh14GgwLohnVy9DIPOUXPShxvtPY1zsdv1KN1Gj74XbHA=s64",
      "userId": "04759338744272072118"
     },
     "user_tz": -60
    },
    "id": "eOBpBNwMBu5L",
    "outputId": "08647d74-e680-48b5-bf56-79af59ada550"
   },
   "outputs": [
    {
     "data": {
      "text/plain": [
       "(0.9999976361014585, 0.99302257596567)"
      ]
     },
     "execution_count": 76,
     "metadata": {},
     "output_type": "execute_result"
    }
   ],
   "source": [
    "base_accs # no max depth or max leaf nodes"
   ]
  },
  {
   "cell_type": "markdown",
   "metadata": {
    "id": "eIYSznZfBuzN"
   },
   "source": [
    "### `max_features`\n",
    "\n",
    "Instead of picking all features (columns) for every split, we can specify that only a fraction of features be chosen randomly to figure out a split.\n",
    "\n",
    "<img src=\"https://i.imgur.com/FXGWMDY.png\" width=\"720\">\n",
    "\n",
    "Notice that the default value `auto` causes only $\\sqrt{n}$ out of total features ( $n$ ) to be chosen randomly at each split. This is the reason each decision tree in the forest is different. While it may seem counterintuitive, choosing all features for every split of every tree will lead to identical trees, so the random forest will not generalize well. "
   ]
  },
  {
   "cell_type": "code",
   "execution_count": 77,
   "metadata": {
    "colab": {
     "base_uri": "https://localhost:8080/"
    },
    "executionInfo": {
     "elapsed": 121414,
     "status": "ok",
     "timestamp": 1628796768413,
     "user": {
      "displayName": "Gbolahan Aina",
      "photoUrl": "https://lh3.googleusercontent.com/a-/AOh14GgwLohnVy9DIPOUXPShxvtPY1zsdv1KN1Gj74XbHA=s64",
      "userId": "04759338744272072118"
     },
     "user_tz": -60
    },
    "id": "DFGKzVqDBuwG",
    "outputId": "04db5efd-e1cd-46c9-f13a-577c2b2c1b1c"
   },
   "outputs": [
    {
     "data": {
      "text/plain": [
       "(0.9999976361014585, 0.9924268749413951)"
      ]
     },
     "execution_count": 77,
     "metadata": {},
     "output_type": "execute_result"
    }
   ],
   "source": [
    "test_params(max_features='log2')"
   ]
  },
  {
   "cell_type": "code",
   "execution_count": 78,
   "metadata": {
    "colab": {
     "base_uri": "https://localhost:8080/"
    },
    "executionInfo": {
     "elapsed": 137589,
     "status": "ok",
     "timestamp": 1628796905976,
     "user": {
      "displayName": "Gbolahan Aina",
      "photoUrl": "https://lh3.googleusercontent.com/a-/AOh14GgwLohnVy9DIPOUXPShxvtPY1zsdv1KN1Gj74XbHA=s64",
      "userId": "04759338744272072118"
     },
     "user_tz": -60
    },
    "id": "C_tKKlwB1GnN",
    "outputId": "1f18271c-84d8-4e86-bac1-498fcbce8d4f"
   },
   "outputs": [
    {
     "data": {
      "text/plain": [
       "(0.9999976361014585, 0.99302257596567)"
      ]
     },
     "execution_count": 78,
     "metadata": {},
     "output_type": "execute_result"
    }
   ],
   "source": [
    "test_params(max_features='sqrt')"
   ]
  },
  {
   "cell_type": "code",
   "execution_count": null,
   "metadata": {
    "executionInfo": {
     "elapsed": 22,
     "status": "ok",
     "timestamp": 1628796905977,
     "user": {
      "displayName": "Gbolahan Aina",
      "photoUrl": "https://lh3.googleusercontent.com/a-/AOh14GgwLohnVy9DIPOUXPShxvtPY1zsdv1KN1Gj74XbHA=s64",
      "userId": "04759338744272072118"
     },
     "user_tz": -60
    },
    "id": "A4a8lRUx1GkP"
   },
   "outputs": [],
   "source": []
  },
  {
   "cell_type": "code",
   "execution_count": 79,
   "metadata": {
    "colab": {
     "base_uri": "https://localhost:8080/"
    },
    "executionInfo": {
     "elapsed": 98654,
     "status": "ok",
     "timestamp": 1628797004612,
     "user": {
      "displayName": "Gbolahan Aina",
      "photoUrl": "https://lh3.googleusercontent.com/a-/AOh14GgwLohnVy9DIPOUXPShxvtPY1zsdv1KN1Gj74XbHA=s64",
      "userId": "04759338744272072118"
     },
     "user_tz": -60
    },
    "id": "fZ96AGUfButK",
    "outputId": "9a63c2eb-4d96-4984-e182-3faa23ccc164"
   },
   "outputs": [
    {
     "data": {
      "text/plain": [
       "(0.9999976361014585, 0.9916932801615012)"
      ]
     },
     "execution_count": 79,
     "metadata": {},
     "output_type": "execute_result"
    }
   ],
   "source": [
    "test_params(max_features=3)"
   ]
  },
  {
   "cell_type": "code",
   "execution_count": 80,
   "metadata": {
    "colab": {
     "base_uri": "https://localhost:8080/"
    },
    "executionInfo": {
     "elapsed": 301624,
     "status": "ok",
     "timestamp": 1628797306214,
     "user": {
      "displayName": "Gbolahan Aina",
      "photoUrl": "https://lh3.googleusercontent.com/a-/AOh14GgwLohnVy9DIPOUXPShxvtPY1zsdv1KN1Gj74XbHA=s64",
      "userId": "04759338744272072118"
     },
     "user_tz": -60
    },
    "id": "Qmnsud3mBuqD",
    "outputId": "dec31907-39e0-4cd8-990e-3f404566379c"
   },
   "outputs": [
    {
     "data": {
      "text/plain": [
       "(0.9999976361014585, 0.993447288732977)"
      ]
     },
     "execution_count": 80,
     "metadata": {},
     "output_type": "execute_result"
    }
   ],
   "source": [
    "test_params(max_features=12)"
   ]
  },
  {
   "cell_type": "code",
   "execution_count": 81,
   "metadata": {
    "colab": {
     "base_uri": "https://localhost:8080/"
    },
    "executionInfo": {
     "elapsed": 311029,
     "status": "ok",
     "timestamp": 1628797617220,
     "user": {
      "displayName": "Gbolahan Aina",
      "photoUrl": "https://lh3.googleusercontent.com/a-/AOh14GgwLohnVy9DIPOUXPShxvtPY1zsdv1KN1Gj74XbHA=s64",
      "userId": "04759338744272072118"
     },
     "user_tz": -60
    },
    "id": "znYQaAxV474C",
    "outputId": "5693143b-90e5-4646-fa20-fd60c00eff51"
   },
   "outputs": [
    {
     "data": {
      "text/plain": [
       "(0.9999976361014585, 0.9936017297392705)"
      ]
     },
     "execution_count": 81,
     "metadata": {},
     "output_type": "execute_result"
    }
   ],
   "source": [
    "test_params(max_features=13)"
   ]
  },
  {
   "cell_type": "code",
   "execution_count": 82,
   "metadata": {
    "colab": {
     "base_uri": "https://localhost:8080/"
    },
    "executionInfo": {
     "elapsed": 412535,
     "status": "ok",
     "timestamp": 1628798029739,
     "user": {
      "displayName": "Gbolahan Aina",
      "photoUrl": "https://lh3.googleusercontent.com/a-/AOh14GgwLohnVy9DIPOUXPShxvtPY1zsdv1KN1Gj74XbHA=s64",
      "userId": "04759338744272072118"
     },
     "user_tz": -60
    },
    "id": "fjyG6PPu-KVy",
    "outputId": "4c61f830-2258-4701-c194-a29104a6ce8d"
   },
   "outputs": [
    {
     "data": {
      "text/plain": [
       "(0.9999976361014585, 0.9933204264778074)"
      ]
     },
     "execution_count": 82,
     "metadata": {},
     "output_type": "execute_result"
    }
   ],
   "source": [
    "test_params(max_features=18)"
   ]
  },
  {
   "cell_type": "code",
   "execution_count": 83,
   "metadata": {
    "colab": {
     "base_uri": "https://localhost:8080/"
    },
    "executionInfo": {
     "elapsed": 33,
     "status": "ok",
     "timestamp": 1628798029739,
     "user": {
      "displayName": "Gbolahan Aina",
      "photoUrl": "https://lh3.googleusercontent.com/a-/AOh14GgwLohnVy9DIPOUXPShxvtPY1zsdv1KN1Gj74XbHA=s64",
      "userId": "04759338744272072118"
     },
     "user_tz": -60
    },
    "id": "P_O3sD7-BunB",
    "outputId": "3361c59f-2522-4568-a43a-fd9912c24b3e"
   },
   "outputs": [
    {
     "data": {
      "text/plain": [
       "(0.9999976361014585, 0.99302257596567)"
      ]
     },
     "execution_count": 83,
     "metadata": {},
     "output_type": "execute_result"
    }
   ],
   "source": [
    "base_accs"
   ]
  },
  {
   "cell_type": "markdown",
   "metadata": {
    "id": "7RtXhP72DgHD"
   },
   "source": [
    "### `min_samples_split` and `min_samples_leaf`\n",
    "\n",
    "By default, the decision tree classifier tries to split every node that has 2 or more. You can increase the values of these arguments to change this behavior and reduce overfitting, especially for very large datasets."
   ]
  },
  {
   "cell_type": "code",
   "execution_count": 84,
   "metadata": {
    "colab": {
     "base_uri": "https://localhost:8080/"
    },
    "executionInfo": {
     "elapsed": 136071,
     "status": "ok",
     "timestamp": 1628798169768,
     "user": {
      "displayName": "Gbolahan Aina",
      "photoUrl": "https://lh3.googleusercontent.com/a-/AOh14GgwLohnVy9DIPOUXPShxvtPY1zsdv1KN1Gj74XbHA=s64",
      "userId": "04759338744272072118"
     },
     "user_tz": -60
    },
    "id": "fDyR43cQBuj_",
    "outputId": "93749abe-ca3a-4619-a081-76fc920f2ba6"
   },
   "outputs": [
    {
     "data": {
      "text/plain": [
       "(0.9990520766848687, 0.9891339720572093)"
      ]
     },
     "execution_count": 84,
     "metadata": {},
     "output_type": "execute_result"
    }
   ],
   "source": [
    "test_params(min_samples_split=3, min_samples_leaf=2)"
   ]
  },
  {
   "cell_type": "code",
   "execution_count": 85,
   "metadata": {
    "colab": {
     "base_uri": "https://localhost:8080/"
    },
    "executionInfo": {
     "elapsed": 137333,
     "status": "ok",
     "timestamp": 1628798307085,
     "user": {
      "displayName": "Gbolahan Aina",
      "photoUrl": "https://lh3.googleusercontent.com/a-/AOh14GgwLohnVy9DIPOUXPShxvtPY1zsdv1KN1Gj74XbHA=s64",
      "userId": "04759338744272072118"
     },
     "user_tz": -60
    },
    "id": "ygW-zDg4Bugx",
    "outputId": "1043c2f2-5afc-4348-e211-88fe8182c77d"
   },
   "outputs": [
    {
     "data": {
      "text/plain": [
       "(0.9990520766848687, 0.9891339720572093)"
      ]
     },
     "execution_count": 85,
     "metadata": {},
     "output_type": "execute_result"
    }
   ],
   "source": [
    "test_params(min_samples_split=2, min_samples_leaf=2)"
   ]
  },
  {
   "cell_type": "code",
   "execution_count": 86,
   "metadata": {
    "colab": {
     "base_uri": "https://localhost:8080/"
    },
    "executionInfo": {
     "elapsed": 45,
     "status": "ok",
     "timestamp": 1628798307086,
     "user": {
      "displayName": "Gbolahan Aina",
      "photoUrl": "https://lh3.googleusercontent.com/a-/AOh14GgwLohnVy9DIPOUXPShxvtPY1zsdv1KN1Gj74XbHA=s64",
      "userId": "04759338744272072118"
     },
     "user_tz": -60
    },
    "id": "ZSzLOifLBud2",
    "outputId": "189587e0-743b-4537-e031-aa97e986c1fd"
   },
   "outputs": [
    {
     "data": {
      "text/plain": [
       "(0.9999976361014585, 0.99302257596567)"
      ]
     },
     "execution_count": 86,
     "metadata": {},
     "output_type": "execute_result"
    }
   ],
   "source": [
    "base_accs"
   ]
  },
  {
   "cell_type": "markdown",
   "metadata": {
    "id": "h-bCWxS6Buaw"
   },
   "source": [
    "### `min_impurity_decrease`\n",
    "\n",
    "This argument is used to control the threshold for splitting nodes. A node will be split if this split induces a decrease of the impurity (Gini index) greater than or equal to this value. It's default value is 0, and you can increase it to reduce overfitting.\n",
    "\n"
   ]
  },
  {
   "cell_type": "code",
   "execution_count": 87,
   "metadata": {
    "colab": {
     "base_uri": "https://localhost:8080/"
    },
    "executionInfo": {
     "elapsed": 142941,
     "status": "ok",
     "timestamp": 1628798452856,
     "user": {
      "displayName": "Gbolahan Aina",
      "photoUrl": "https://lh3.googleusercontent.com/a-/AOh14GgwLohnVy9DIPOUXPShxvtPY1zsdv1KN1Gj74XbHA=s64",
      "userId": "04759338744272072118"
     },
     "user_tz": -60
    },
    "id": "Kkchrlk0BuXm",
    "outputId": "fdf86663-3a2a-4d52-f7b0-450d7a7d8162"
   },
   "outputs": [
    {
     "data": {
      "text/plain": [
       "(0.9999976361014585, 0.9930336074661195)"
      ]
     },
     "execution_count": 87,
     "metadata": {},
     "output_type": "execute_result"
    }
   ],
   "source": [
    "test_params(min_impurity_decrease=1e-9)"
   ]
  },
  {
   "cell_type": "code",
   "execution_count": 88,
   "metadata": {
    "colab": {
     "base_uri": "https://localhost:8080/"
    },
    "executionInfo": {
     "elapsed": 38235,
     "status": "ok",
     "timestamp": 1628798491086,
     "user": {
      "displayName": "Gbolahan Aina",
      "photoUrl": "https://lh3.googleusercontent.com/a-/AOh14GgwLohnVy9DIPOUXPShxvtPY1zsdv1KN1Gj74XbHA=s64",
      "userId": "04759338744272072118"
     },
     "user_tz": -60
    },
    "id": "YGe8DBWpBuUk",
    "outputId": "804ad623-0fe6-4d29-b9a2-4fa36ffc1f7c"
   },
   "outputs": [
    {
     "data": {
      "text/plain": [
       "(0.8360399971633218, 0.8356637378032973)"
      ]
     },
     "execution_count": 88,
     "metadata": {},
     "output_type": "execute_result"
    }
   ],
   "source": [
    "test_params(min_impurity_decrease=1e-2)"
   ]
  },
  {
   "cell_type": "code",
   "execution_count": 89,
   "metadata": {
    "colab": {
     "base_uri": "https://localhost:8080/"
    },
    "executionInfo": {
     "elapsed": 47,
     "status": "ok",
     "timestamp": 1628798491087,
     "user": {
      "displayName": "Gbolahan Aina",
      "photoUrl": "https://lh3.googleusercontent.com/a-/AOh14GgwLohnVy9DIPOUXPShxvtPY1zsdv1KN1Gj74XbHA=s64",
      "userId": "04759338744272072118"
     },
     "user_tz": -60
    },
    "id": "5Xjct6CnBuRm",
    "outputId": "4b916a88-6854-46e1-8f54-96157517fa4e"
   },
   "outputs": [
    {
     "data": {
      "text/plain": [
       "(0.9999976361014585, 0.99302257596567)"
      ]
     },
     "execution_count": 89,
     "metadata": {},
     "output_type": "execute_result"
    }
   ],
   "source": [
    "base_accs"
   ]
  },
  {
   "cell_type": "markdown",
   "metadata": {
    "id": "k6LlGG1-DsrG"
   },
   "source": [
    "### `bootstrap`, `max_samples` \n",
    "\n",
    "By default, a random forest doesn't use the entire dataset for training each decision tree. Instead it applies a technique called bootstrapping. For each tree, rows from the dataset are picked one by one randomly, with replacement i.e. some rows may not show up at all, while some rows may show up multiple times.\n",
    "\n",
    "\n",
    "<img src=\"https://i.imgur.com/W8UGaEA.png\" width=\"640\">\n",
    "\n",
    "Bootstrapping helps the random forest generalize better, because each decision tree only sees a fraction of th training set, and some rows randomly get higher weightage than others."
   ]
  },
  {
   "cell_type": "code",
   "execution_count": null,
   "metadata": {
    "colab": {
     "base_uri": "https://localhost:8080/"
    },
    "executionInfo": {
     "elapsed": 183269,
     "status": "ok",
     "timestamp": 1628798677903,
     "user": {
      "displayName": "Gbolahan Aina",
      "photoUrl": "https://lh3.googleusercontent.com/a-/AOh14GgwLohnVy9DIPOUXPShxvtPY1zsdv1KN1Gj74XbHA=s64",
      "userId": "04759338744272072118"
     },
     "user_tz": -60
    },
    "id": "Znx3JfgWDsnx",
    "outputId": "b18d29ab-1f13-447b-fbf5-6d9ad1f95d55"
   },
   "outputs": [],
   "source": [
    "test_params(bootstrap=False)"
   ]
  },
  {
   "cell_type": "code",
   "execution_count": null,
   "metadata": {
    "colab": {
     "base_uri": "https://localhost:8080/"
    },
    "executionInfo": {
     "elapsed": 22,
     "status": "ok",
     "timestamp": 1628798677905,
     "user": {
      "displayName": "Gbolahan Aina",
      "photoUrl": "https://lh3.googleusercontent.com/a-/AOh14GgwLohnVy9DIPOUXPShxvtPY1zsdv1KN1Gj74XbHA=s64",
      "userId": "04759338744272072118"
     },
     "user_tz": -60
    },
    "id": "9hNiJpIcDsk3",
    "outputId": "597dc949-1bef-4e51-e4c4-f45d4477446b"
   },
   "outputs": [],
   "source": [
    "base_accs"
   ]
  },
  {
   "cell_type": "markdown",
   "metadata": {
    "id": "UIqLP7F5DsiO"
   },
   "source": [
    "When bootstrapping is enabled, you we also control the number or fraction of rows to be considered for each bootstrap using `max_samples`. This can further generalize the model.\n",
    "\n",
    "<img src=\"https://i.imgur.com/rsdrL1W.png\" width=\"640\">"
   ]
  },
  {
   "cell_type": "code",
   "execution_count": null,
   "metadata": {
    "colab": {
     "base_uri": "https://localhost:8080/"
    },
    "executionInfo": {
     "elapsed": 137775,
     "status": "ok",
     "timestamp": 1628798815672,
     "user": {
      "displayName": "Gbolahan Aina",
      "photoUrl": "https://lh3.googleusercontent.com/a-/AOh14GgwLohnVy9DIPOUXPShxvtPY1zsdv1KN1Gj74XbHA=s64",
      "userId": "04759338744272072118"
     },
     "user_tz": -60
    },
    "id": "W_DJgnMyDsfx",
    "outputId": "c19c756c-a118-45fd-cc2d-5ddc9e82308a"
   },
   "outputs": [],
   "source": [
    "test_params(max_samples=0.9)"
   ]
  },
  {
   "cell_type": "code",
   "execution_count": null,
   "metadata": {
    "colab": {
     "base_uri": "https://localhost:8080/"
    },
    "executionInfo": {
     "elapsed": 34,
     "status": "ok",
     "timestamp": 1628798815673,
     "user": {
      "displayName": "Gbolahan Aina",
      "photoUrl": "https://lh3.googleusercontent.com/a-/AOh14GgwLohnVy9DIPOUXPShxvtPY1zsdv1KN1Gj74XbHA=s64",
      "userId": "04759338744272072118"
     },
     "user_tz": -60
    },
    "id": "S-tiroKcDsdj",
    "outputId": "8934bec4-4fd7-4fe7-8870-02dfbee48a4d"
   },
   "outputs": [],
   "source": [
    "base_accs"
   ]
  },
  {
   "cell_type": "markdown",
   "metadata": {
    "id": "5IPdOoerDsN2"
   },
   "source": [
    "### Putting it together\n",
    "\n",
    "Let's train a random forest with customized hyperparameters based on our learnings. Of course, different hyperpraams"
   ]
  },
  {
   "cell_type": "code",
   "execution_count": 91,
   "metadata": {
    "executionInfo": {
     "elapsed": 16,
     "status": "ok",
     "timestamp": 1628798819007,
     "user": {
      "displayName": "Gbolahan Aina",
      "photoUrl": "https://lh3.googleusercontent.com/a-/AOh14GgwLohnVy9DIPOUXPShxvtPY1zsdv1KN1Gj74XbHA=s64",
      "userId": "04759338744272072118"
     },
     "user_tz": -60
    },
    "id": "2ijx8PEqDsLC"
   },
   "outputs": [],
   "source": [
    "model = RandomForestClassifier(n_jobs=-1, \n",
    "                               random_state=42, \n",
    "                               n_estimators=150,\n",
    "                               max_features=13,\n",
    "                               \n",
    "                               min_impurity_decrease=1e-9)"
   ]
  },
  {
   "cell_type": "code",
   "execution_count": 92,
   "metadata": {
    "colab": {
     "base_uri": "https://localhost:8080/"
    },
    "executionInfo": {
     "elapsed": 468674,
     "status": "ok",
     "timestamp": 1628799287668,
     "user": {
      "displayName": "Gbolahan Aina",
      "photoUrl": "https://lh3.googleusercontent.com/a-/AOh14GgwLohnVy9DIPOUXPShxvtPY1zsdv1KN1Gj74XbHA=s64",
      "userId": "04759338744272072118"
     },
     "user_tz": -60
    },
    "id": "TwvbtfklDsIU",
    "outputId": "b6e01c00-d372-4596-939b-d7f01b26a78d"
   },
   "outputs": [
    {
     "data": {
      "text/plain": [
       "RandomForestClassifier(max_features=13, min_impurity_decrease=1e-09,\n",
       "                       n_estimators=150, n_jobs=-1, random_state=42)"
      ]
     },
     "execution_count": 92,
     "metadata": {},
     "output_type": "execute_result"
    }
   ],
   "source": [
    "model.fit(x_train, y_train.values.ravel())"
   ]
  },
  {
   "cell_type": "code",
   "execution_count": 93,
   "metadata": {
    "colab": {
     "base_uri": "https://localhost:8080/"
    },
    "executionInfo": {
     "elapsed": 17031,
     "status": "ok",
     "timestamp": 1628799304671,
     "user": {
      "displayName": "Gbolahan Aina",
      "photoUrl": "https://lh3.googleusercontent.com/a-/AOh14GgwLohnVy9DIPOUXPShxvtPY1zsdv1KN1Gj74XbHA=s64",
      "userId": "04759338744272072118"
     },
     "user_tz": -60
    },
    "id": "xozcoqFDDsF6",
    "outputId": "13edc6cb-1622-4202-d0cd-d3846efe6e7f"
   },
   "outputs": [
    {
     "data": {
      "text/plain": [
       "(1.0, 0.9935355407365732)"
      ]
     },
     "execution_count": 93,
     "metadata": {},
     "output_type": "execute_result"
    }
   ],
   "source": [
    "model.score(x_train, y_train), model.score(x_val, y_val)"
   ]
  },
  {
   "cell_type": "code",
   "execution_count": 94,
   "metadata": {
    "colab": {
     "base_uri": "https://localhost:8080/"
    },
    "executionInfo": {
     "elapsed": 28,
     "status": "ok",
     "timestamp": 1628799304672,
     "user": {
      "displayName": "Gbolahan Aina",
      "photoUrl": "https://lh3.googleusercontent.com/a-/AOh14GgwLohnVy9DIPOUXPShxvtPY1zsdv1KN1Gj74XbHA=s64",
      "userId": "04759338744272072118"
     },
     "user_tz": -60
    },
    "id": "x_SSiJOZBuOi",
    "outputId": "592f26f0-ea5b-407a-b3a3-04f57e38ea86"
   },
   "outputs": [
    {
     "data": {
      "text/plain": [
       "(0.9999976361014585, 0.99302257596567)"
      ]
     },
     "execution_count": 94,
     "metadata": {},
     "output_type": "execute_result"
    }
   ],
   "source": [
    "base_accs"
   ]
  },
  {
   "cell_type": "markdown",
   "metadata": {
    "id": "cOd1CmmWBuLi"
   },
   "source": [
    "We've increased the accuracy from 99.99%  to 100% with a well-tuned random forest.\n",
    "\n",
    "This could be due to any of the following reasons:\n",
    "\n",
    "- We may not have found the right mix of hyperparameters to regularize (reduce overfitting) the model properly, and we should keep trying to improve the model.\n",
    "\n",
    "- We may have reached the limits of the modeling technique we're currently using (Random Forests), and we should try another modeling technique e.g. gradient boosting.\n",
    "\n",
    "- We may have reached the limits of what we can predict using the given amount of data, and we may need more data to improve the model.\n",
    "\n",
    "- We may have reached the limits of how well we can predict whether it will rain tomorrow using the given weather measurements, and we may need more features (columns) to further improve the model. In many cases, we can also generate new features using existing features (this is called feature engineering).\n",
    "\n",
    "- Whether it will rain tomorrow may be an inherently random or chaotic phenomenon which simply cannot be predicted beyond a certain accuracy any amount of data for any number of weather measurements with any modeling technique.  \n",
    "\n",
    "Remember that ultimately all models are wrong, but some are useful. If you can rely on the model we've created today to make a travel decision for tomorrow, then the model is useful, even though it may sometimes be wrong."
   ]
  },
  {
   "cell_type": "code",
   "execution_count": null,
   "metadata": {
    "executionInfo": {
     "elapsed": 21,
     "status": "ok",
     "timestamp": 1628799304673,
     "user": {
      "displayName": "Gbolahan Aina",
      "photoUrl": "https://lh3.googleusercontent.com/a-/AOh14GgwLohnVy9DIPOUXPShxvtPY1zsdv1KN1Gj74XbHA=s64",
      "userId": "04759338744272072118"
     },
     "user_tz": -60
    },
    "id": "o_AIuAonBt-L"
   },
   "outputs": [],
   "source": []
  },
  {
   "cell_type": "markdown",
   "metadata": {
    "id": "vy8NkyafBtuB"
   },
   "source": [
    "Finally, let's also compute the accuracy of our model on the test set."
   ]
  },
  {
   "cell_type": "code",
   "execution_count": null,
   "metadata": {
    "executionInfo": {
     "elapsed": 430,
     "status": "ok",
     "timestamp": 1628800696562,
     "user": {
      "displayName": "Gbolahan Aina",
      "photoUrl": "https://lh3.googleusercontent.com/a-/AOh14GgwLohnVy9DIPOUXPShxvtPY1zsdv1KN1Gj74XbHA=s64",
      "userId": "04759338744272072118"
     },
     "user_tz": -60
    },
    "id": "bavzYMdc9aFj"
   },
   "outputs": [],
   "source": [
    "test_inputs = test[input_col_test]\n",
    "test_target = pd.read_csv('stayalert/Solution.csv')"
   ]
  },
  {
   "cell_type": "code",
   "execution_count": null,
   "metadata": {
    "executionInfo": {
     "elapsed": 353,
     "status": "ok",
     "timestamp": 1628800739186,
     "user": {
      "displayName": "Gbolahan Aina",
      "photoUrl": "https://lh3.googleusercontent.com/a-/AOh14GgwLohnVy9DIPOUXPShxvtPY1zsdv1KN1Gj74XbHA=s64",
      "userId": "04759338744272072118"
     },
     "user_tz": -60
    },
    "id": "W-hp4P7UAZ4b"
   },
   "outputs": [],
   "source": [
    "target_col_test = list(test_target.columns)[2:3]"
   ]
  },
  {
   "cell_type": "code",
   "execution_count": null,
   "metadata": {
    "executionInfo": {
     "elapsed": 22,
     "status": "ok",
     "timestamp": 1628800739681,
     "user": {
      "displayName": "Gbolahan Aina",
      "photoUrl": "https://lh3.googleusercontent.com/a-/AOh14GgwLohnVy9DIPOUXPShxvtPY1zsdv1KN1Gj74XbHA=s64",
      "userId": "04759338744272072118"
     },
     "user_tz": -60
    },
    "id": "8-mke6EyAZ1b"
   },
   "outputs": [],
   "source": [
    "test_targets = test_target[target_col_test]"
   ]
  },
  {
   "cell_type": "code",
   "execution_count": null,
   "metadata": {
    "colab": {
     "base_uri": "https://localhost:8080/"
    },
    "executionInfo": {
     "elapsed": 22,
     "status": "ok",
     "timestamp": 1628800739682,
     "user": {
      "displayName": "Gbolahan Aina",
      "photoUrl": "https://lh3.googleusercontent.com/a-/AOh14GgwLohnVy9DIPOUXPShxvtPY1zsdv1KN1Gj74XbHA=s64",
      "userId": "04759338744272072118"
     },
     "user_tz": -60
    },
    "id": "rMvAFkUdFEkH",
    "outputId": "977cd5a7-540f-4a39-9a01-e8e0b529ec35"
   },
   "outputs": [],
   "source": [
    "test_inputs.info()"
   ]
  },
  {
   "cell_type": "code",
   "execution_count": null,
   "metadata": {
    "colab": {
     "base_uri": "https://localhost:8080/",
     "height": 417
    },
    "executionInfo": {
     "elapsed": 10,
     "status": "ok",
     "timestamp": 1628800740431,
     "user": {
      "displayName": "Gbolahan Aina",
      "photoUrl": "https://lh3.googleusercontent.com/a-/AOh14GgwLohnVy9DIPOUXPShxvtPY1zsdv1KN1Gj74XbHA=s64",
      "userId": "04759338744272072118"
     },
     "user_tz": -60
    },
    "id": "MriRu4eSFEg7",
    "outputId": "56f76d21-abc0-4dba-dbf7-50d843e0c260"
   },
   "outputs": [],
   "source": [
    "test_targets"
   ]
  },
  {
   "cell_type": "code",
   "execution_count": null,
   "metadata": {
    "executionInfo": {
     "elapsed": 1944,
     "status": "ok",
     "timestamp": 1628801387788,
     "user": {
      "displayName": "Gbolahan Aina",
      "photoUrl": "https://lh3.googleusercontent.com/a-/AOh14GgwLohnVy9DIPOUXPShxvtPY1zsdv1KN1Gj74XbHA=s64",
      "userId": "04759338744272072118"
     },
     "user_tz": -60
    },
    "id": "AtFn6oQdIFiy"
   },
   "outputs": [],
   "source": [
    "submission = model.predict(test_inputs)"
   ]
  },
  {
   "cell_type": "code",
   "execution_count": null,
   "metadata": {
    "colab": {
     "base_uri": "https://localhost:8080/"
    },
    "executionInfo": {
     "elapsed": 319,
     "status": "ok",
     "timestamp": 1628801400188,
     "user": {
      "displayName": "Gbolahan Aina",
      "photoUrl": "https://lh3.googleusercontent.com/a-/AOh14GgwLohnVy9DIPOUXPShxvtPY1zsdv1KN1Gj74XbHA=s64",
      "userId": "04759338744272072118"
     },
     "user_tz": -60
    },
    "id": "7_bDMcaRIOp0",
    "outputId": "825f680d-a594-4be5-8668-883dc9b7ad4c"
   },
   "outputs": [],
   "source": [
    "submission"
   ]
  },
  {
   "cell_type": "code",
   "execution_count": null,
   "metadata": {
    "colab": {
     "base_uri": "https://localhost:8080/"
    },
    "executionInfo": {
     "elapsed": 1874,
     "status": "ok",
     "timestamp": 1628800744494,
     "user": {
      "displayName": "Gbolahan Aina",
      "photoUrl": "https://lh3.googleusercontent.com/a-/AOh14GgwLohnVy9DIPOUXPShxvtPY1zsdv1KN1Gj74XbHA=s64",
      "userId": "04759338744272072118"
     },
     "user_tz": -60
    },
    "id": "UeAGqZ5MBthf",
    "outputId": "ce096275-c161-4b15-e9e6-a00406223613"
   },
   "outputs": [],
   "source": [
    "model.score(test_inputs,test_targets)"
   ]
  },
  {
   "cell_type": "markdown",
   "metadata": {
    "id": "AbQ2Hhz_Hn1A"
   },
   "source": [
    "## Making Submission"
   ]
  },
  {
   "cell_type": "code",
   "execution_count": null,
   "metadata": {
    "executionInfo": {
     "elapsed": 442,
     "status": "ok",
     "timestamp": 1628801233605,
     "user": {
      "displayName": "Gbolahan Aina",
      "photoUrl": "https://lh3.googleusercontent.com/a-/AOh14GgwLohnVy9DIPOUXPShxvtPY1zsdv1KN1Gj74XbHA=s64",
      "userId": "04759338744272072118"
     },
     "user_tz": -60
    },
    "id": "QK6YaEbIHW8p"
   },
   "outputs": [],
   "source": [
    "submission_df = pd.read_csv('stayalert/example_submission.csv')"
   ]
  },
  {
   "cell_type": "code",
   "execution_count": null,
   "metadata": {
    "executionInfo": {
     "elapsed": 415,
     "status": "ok",
     "timestamp": 1628801415222,
     "user": {
      "displayName": "Gbolahan Aina",
      "photoUrl": "https://lh3.googleusercontent.com/a-/AOh14GgwLohnVy9DIPOUXPShxvtPY1zsdv1KN1Gj74XbHA=s64",
      "userId": "04759338744272072118"
     },
     "user_tz": -60
    },
    "id": "ex9C3fiwHW6c"
   },
   "outputs": [],
   "source": [
    "submission_df['Prediction']  = submission"
   ]
  },
  {
   "cell_type": "code",
   "execution_count": null,
   "metadata": {
    "colab": {
     "base_uri": "https://localhost:8080/",
     "height": 417
    },
    "executionInfo": {
     "elapsed": 504,
     "status": "ok",
     "timestamp": 1628801461861,
     "user": {
      "displayName": "Gbolahan Aina",
      "photoUrl": "https://lh3.googleusercontent.com/a-/AOh14GgwLohnVy9DIPOUXPShxvtPY1zsdv1KN1Gj74XbHA=s64",
      "userId": "04759338744272072118"
     },
     "user_tz": -60
    },
    "id": "WNtbz9JvHW3u",
    "outputId": "8760847c-3702-44e1-ffaa-75b74813d78f"
   },
   "outputs": [],
   "source": [
    "submission_df"
   ]
  },
  {
   "cell_type": "code",
   "execution_count": null,
   "metadata": {
    "executionInfo": {
     "elapsed": 371,
     "status": "ok",
     "timestamp": 1628801480357,
     "user": {
      "displayName": "Gbolahan Aina",
      "photoUrl": "https://lh3.googleusercontent.com/a-/AOh14GgwLohnVy9DIPOUXPShxvtPY1zsdv1KN1Gj74XbHA=s64",
      "userId": "04759338744272072118"
     },
     "user_tz": -60
    },
    "id": "D3jDbMCLHW0q"
   },
   "outputs": [],
   "source": [
    "submission_df.to_csv('submission.csv', index=None)"
   ]
  },
  {
   "cell_type": "markdown",
   "metadata": {
    "id": "lR01z0VAHWxO"
   },
   "source": [
    "## Summary"
   ]
  },
  {
   "cell_type": "markdown",
   "metadata": {
    "id": "N467HhG0HWt5"
   },
   "source": [
    "Using the model LogisticRegression i was able to achieve a 78.68% accuracy on my validation model \n",
    "while with the Random forest classsification i was able to achive a 80.2% on my test input.\n",
    "This clearly shows that the random forest classifcation is better and with more tweaing i can achive a better result with the random forest classifier"
   ]
  },
  {
   "cell_type": "markdown",
   "metadata": {
    "id": "d8Dy2QeSNBFJ"
   },
   "source": [
    "## Summary and References\n",
    "\n",
    "The following were covered in this project:\n",
    "\n",
    "- Downloading a real-world dataset\n",
    "- Preparing a dataset for training\n",
    "- Training and interpreting decision trees\n",
    "- Training and interpreting random forests\n",
    "- Overfitting, hyperparameter tuning & regularization\n",
    "- Making predictions on single inputs\n",
    "\n",
    "\n",
    "\n",
    "I also used  the following terms:\n",
    "\n",
    "* Logistics regression\n",
    "* Random forest\n",
    "* Overfitting\n",
    "* Hyperparameter\n",
    "* Hyperparameter tuning\n",
    "* Regularization\n",
    "* Generalization\n",
    "* Bootstrapping\n",
    "\n",
    "\n",
    "Check out the following resources to learn more: \n",
    "\n",
    "-https://jovian.ai/learn/machine-learning-with-python-zero-to-gbms/lesson/random-forests-and-regularization\n",
    "\n",
    "-https://jovian.ai/outlink?url=https%3A%2F%2Fscikit-learn.org%2Fstable%2Fmodules%2Fgenerated%2Fsklearn.ensemble.RandomForestClassifier.html\n",
    "\n",
    "-https://jovian.ai/outlink?url=https%3A%2F%2Fwww.kaggle.com%2Fc%2Fstayalert"
   ]
  },
  {
   "cell_type": "code",
   "execution_count": 96,
   "metadata": {
    "executionInfo": {
     "elapsed": 399,
     "status": "ok",
     "timestamp": 1628801158003,
     "user": {
      "displayName": "Gbolahan Aina",
      "photoUrl": "https://lh3.googleusercontent.com/a-/AOh14GgwLohnVy9DIPOUXPShxvtPY1zsdv1KN1Gj74XbHA=s64",
      "userId": "04759338744272072118"
     },
     "user_tz": -60
    },
    "id": "oEWlE2Ur-WNW"
   },
   "outputs": [],
   "source": [
    "# saving the model \n",
    "import pickle \n",
    "pickle_out = open(\"model.pkl\", mode = \"wb\") \n",
    "pickle.dump(model, pickle_out) \n",
    "pickle_out.close()"
   ]
  },
  {
   "cell_type": "code",
   "execution_count": null,
   "metadata": {},
   "outputs": [],
   "source": []
  }
 ],
 "metadata": {
  "colab": {
   "name": "gbolahan-project-drivers-alertness.ipynb",
   "provenance": []
  },
  "kernelspec": {
   "display_name": "Python 3 (ipykernel)",
   "language": "python",
   "name": "python3"
  },
  "language_info": {
   "codemirror_mode": {
    "name": "ipython",
    "version": 3
   },
   "file_extension": ".py",
   "mimetype": "text/x-python",
   "name": "python",
   "nbconvert_exporter": "python",
   "pygments_lexer": "ipython3",
   "version": "3.9.2"
  }
 },
 "nbformat": 4,
 "nbformat_minor": 1
}
